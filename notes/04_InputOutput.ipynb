{
 "cells": [
  {
   "cell_type": "markdown",
   "metadata": {},
   "source": [
    "# Input/Output - reading and modifying files and tables\n",
    "\n",
    "One of the most fundamental and useful tasks one can perform using a programming language is to read and write data tables and files. This brief lesson shows an overview of three possible approaches to this type of tasks within *python*, with practical examples."
   ]
  },
  {
   "cell_type": "markdown",
   "metadata": {},
   "source": [
    "## Reading a text file line by line\n",
    "Python has basic built-in text file input/output capabilities. Files can be opened with the `open` built-in function, based on a C-style notation: `stream = open(filename)` assigns a python `file object` to the variable name `stream`, that provides methods to access the file content. By default, text files are open in read-only mode: the keyword `mode` can be used to access the file in different modes, as follows:\n",
    "\n",
    "<table class=\"docutils align-default\" id=\"index-5\">\n",
    "<colgroup>\n",
    "<col style=\"width: 13%\">\n",
    "<col style=\"width: 88%\">\n",
    "</colgroup>\n",
    "<thead>\n",
    "<tr class=\"row-odd\"><th class=\"head\"><p>Character</p></th>\n",
    "<th class=\"head\"><p>Meaning</p></th>\n",
    "</tr>\n",
    "</thead>\n",
    "<tbody>\n",
    "<tr class=\"row-even\"><td><p><code class=\"docutils literal notranslate\"><span class=\"pre\">'r'</span></code></p></td>\n",
    "<td><p>open for reading (default)</p></td>\n",
    "</tr>\n",
    "<tr class=\"row-odd\"><td><p><code class=\"docutils literal notranslate\"><span class=\"pre\">'w'</span></code></p></td>\n",
    "<td><p>open for writing, truncating the file first</p></td>\n",
    "</tr>\n",
    "<tr class=\"row-even\"><td><p><code class=\"docutils literal notranslate\"><span class=\"pre\">'x'</span></code></p></td>\n",
    "<td><p>open for exclusive creation, failing if the file already exists</p></td>\n",
    "</tr>\n",
    "<tr class=\"row-odd\"><td><p><code class=\"docutils literal notranslate\"><span class=\"pre\">'a'</span></code></p></td>\n",
    "<td><p>open for writing, appending to the end of the file if it exists</p></td>\n",
    "</tr>\n",
    "<tr class=\"row-even\"><td><p><code class=\"docutils literal notranslate\"><span class=\"pre\">'b'</span></code></p></td>\n",
    "<td><p>binary mode</p></td>\n",
    "</tr>\n",
    "<tr class=\"row-odd\"><td><p><code class=\"docutils literal notranslate\"><span class=\"pre\">'t'</span></code></p></td>\n",
    "<td><p>text mode (default)</p></td>\n",
    "</tr>\n",
    "<tr class=\"row-even\"><td><p><code class=\"docutils literal notranslate\"><span class=\"pre\">'+'</span></code></p></td>\n",
    "<td><p>open for updating (reading and writing)</p></td>\n",
    "</tr>\n",
    "</tbody>\n",
    "</table>\n",
    "\n",
    "The most commonly used methods of the `file object`, when dealing with text files, are `readline`, `readlines`, `writelines`, `seek` and `close`.\n",
    "\n",
    "- `readline` returns a string with the content of the next line in the file;\n",
    "- `readlines` returns a list of strings containing all lines in the file;\n",
    "- `writelines` writes a list of strings to the file;\n",
    "- `seek` moves the current position within the file (typically used to go back to the beginning of the file);\n",
    "- `close` closes (and saves, if in write mode) the file.\n",
    "\n",
    "\n",
    "Here is a simple example:"
   ]
  },
  {
   "cell_type": "code",
   "execution_count": 1,
   "metadata": {},
   "outputs": [
    {
     "name": "stdout",
     "output_type": "stream",
     "text": [
      "First line: de viajes y dolores yo regresé, amor mío,\n",
      "\n",
      "The lines object is of type <class 'list'>\n",
      "\n",
      "Full file content:\n",
      "de viajes y dolores yo regresé, amor mío,\n",
      "a tu voz, a tu mano volando en la guitarra,\n",
      "al fuego que interrumpe con besos el otoño,\n",
      "a la circulación de la noche en el cielo.\n",
      "\n",
      "Para todos los hombres pido pan y reinado,\n",
      "pido tierra para el labrador sin ventura,\n",
      "que nadie espere tregua de mi sangre o mi canto.\n",
      "Pero a tu amor no puedo renunciar sin morirme.\n",
      "\n",
      "Por eso toca el vals de la serena luna,\n",
      "la barcarola en el agua de la guitarra\n",
      "hasta que se doblegue mi cabeza soñando:\n",
      "\n",
      "que todos los desvelos de mi vida tejieron\n",
      "esta enramada en donde tu mano vive y vuela\n",
      "custodiando la noche del viajero dormido.\n",
      "\n",
      "The file contains 17 lines. 14 of these contain some text.\n"
     ]
    }
   ],
   "source": [
    "# open an example text file\n",
    "sonnet = open('../lesson4/example_text_file.txt','r')\n",
    "\n",
    "# print the first line\n",
    "line = sonnet.readline()\n",
    "print('First line:',line)\n",
    "\n",
    "# move back to the beginning of file, then read all lines and print them one by one\n",
    "sonnet.seek(0)\n",
    "lines = sonnet.readlines()\n",
    "\n",
    "print('The lines object is of type {}\\n'.format(type(lines)))\n",
    "\n",
    "print('Full file content:')\n",
    "for l in lines:\n",
    "    print(l,end='') # don't add newlines at the end of print, they're already in the file\n",
    "\n",
    "# count the file lines\n",
    "n_lines = len(lines) # all lines\n",
    "n_empty = 0 # empty lines\n",
    "for li in lines:\n",
    "    if len(li)<=1:\n",
    "        n_empty+=1\n",
    "\n",
    "print('\\nThe file contains {0:d} lines. {1:d} of these contain some text.'.format(\n",
    "      n_lines,n_lines-n_empty))\n",
    "      \n",
    "\n",
    "sonnet.close() # close the stream"
   ]
  },
  {
   "cell_type": "markdown",
   "metadata": {},
   "source": [
    "## Reading and saving arrays and tables with numpy\n",
    "\n",
    "The `numpy` package has input/output capabilities, especially oriented to saving its own arrays and reading tables of numerical data. Numpy arrays can be saved and loaded simply through the `numpy.save` and `numpy.load` functions:"
   ]
  },
  {
   "cell_type": "code",
   "execution_count": 2,
   "metadata": {},
   "outputs": [
    {
     "name": "stdout",
     "output_type": "stream",
     "text": [
      "(4, 3) (4, 3)\n",
      "[[0. 0. 0.]\n",
      " [0. 0. 0.]\n",
      " [0. 0. 0.]\n",
      " [0. 0. 0.]]\n"
     ]
    }
   ],
   "source": [
    "import numpy as np\n",
    "\n",
    "# create an array with random entries\n",
    "x = np.random.uniform(0.,3.,[4,3])\n",
    "\n",
    "# save it to a file in binary \".npy\" format\n",
    "np.save('../lesson4/x.npy',x)\n",
    "\n",
    "# reload it to a new array\n",
    "y = np.load('../lesson4/x.npy')\n",
    "\n",
    "# demonstrate it is identical to the original one\n",
    "print(x.shape,y.shape)\n",
    "print(x-y)"
   ]
  },
  {
   "cell_type": "markdown",
   "metadata": {},
   "source": [
    "In case of large arrays, they can be saved to a **compressed binary format** `.npz` in order to save space, using the `numpy.savez` function. When a compressed array is loaded, a `<class 'numpy.lib.npyio.NpzFile'>` object is returned, instead of an array. The actual array is accessed by the `[arr_0]` key:"
   ]
  },
  {
   "cell_type": "code",
   "execution_count": 3,
   "metadata": {},
   "outputs": [
    {
     "name": "stdout",
     "output_type": "stream",
     "text": [
      "<class 'numpy.lib.npyio.NpzFile'>\n",
      "(4, 3) (4, 3)\n",
      "[[0. 0. 0.]\n",
      " [0. 0. 0.]\n",
      " [0. 0. 0.]\n",
      " [0. 0. 0.]]\n"
     ]
    }
   ],
   "source": [
    "# save compressed array\n",
    "np.savez('../lesson4/x_compressed.npz',x)\n",
    "\n",
    "# load it\n",
    "z = np.load('../lesson4/x_compressed.npz')\n",
    "print(type(z))\n",
    "\n",
    "# access the data\n",
    "z_data = z['arr_0']\n",
    "\n",
    "# demonstrate it is identical to the original data\n",
    "print(x.shape,z_data.shape)\n",
    "print(x-z_data)"
   ]
  },
  {
   "cell_type": "markdown",
   "metadata": {},
   "source": [
    "The `numpy` function `savetxt` can be used to save the array content in ASCII (text) format, in order for it to be human-readable:"
   ]
  },
  {
   "cell_type": "code",
   "execution_count": 4,
   "metadata": {},
   "outputs": [
    {
     "name": "stdout",
     "output_type": "stream",
     "text": [
      "Text file:\n",
      "1.637954335183730459e+00 1.925208813371974692e+00 5.281015429475528489e-01\n",
      "2.668577384650015816e+00 1.568232519959841031e+00 2.724679000918843741e+00\n",
      "2.511330826228005408e-01 2.497086673196428741e+00 2.794156235338946637e+00\n",
      "4.823024344782075312e-01 3.117564640254075758e-01 1.384889107454712498e+00\n",
      "\n",
      "Original array:\n",
      "[[1.63795434 1.92520881 0.52810154]\n",
      " [2.66857738 1.56823252 2.724679  ]\n",
      " [0.25113308 2.49708667 2.79415624]\n",
      " [0.48230243 0.31175646 1.38488911]]\n"
     ]
    }
   ],
   "source": [
    "# save the x array in text format\n",
    "np.savetxt('../lesson4/x.txt',x)\n",
    "\n",
    "# print its content\n",
    "stream = open('../lesson4/x.txt','r')\n",
    "\n",
    "print('Text file:')\n",
    "for line in stream:\n",
    "    print(line,end='')\n",
    "stream.close()\n",
    "\n",
    "# print the original array\n",
    "print('\\nOriginal array:')\n",
    "print(x)"
   ]
  },
  {
   "cell_type": "markdown",
   "metadata": {},
   "source": [
    "The `np.savetxt` function has a number of keyword arguments which can be used to control the format the data is saved in, the separator character, the presence of a header and a footer, and of comments at the beginning of the file. This makes it suitable to produce simple human-readable tables from numpy arrays."
   ]
  },
  {
   "cell_type": "code",
   "execution_count": 5,
   "metadata": {},
   "outputs": [
    {
     "name": "stdout",
     "output_type": "stream",
     "text": [
      "# random 3D coordinates\n",
      "x_i\t|\ty_i\t|\tz_i\n",
      "1.638\t|\t1.925\t|\t0.528\n",
      "2.669\t|\t1.568\t|\t2.725\n",
      "0.251\t|\t2.497\t|\t2.794\n",
      "0.482\t|\t0.312\t|\t1.385\n"
     ]
    }
   ],
   "source": [
    "# save a more human-readable version of the previous table\n",
    "np.savetxt('../lesson4/x_hr.txt',x,\n",
    "           header='x_i\\t|\\ty_i\\t|\\tz_i',\n",
    "           comments='# random 3D coordinates\\n',\n",
    "           delimiter='\\t|\\t',\n",
    "           fmt='%1.3f')\n",
    "\n",
    "# print its content\n",
    "stream = open('../lesson4/x_hr.txt','r')\n",
    "\n",
    "for line in stream:\n",
    "    print(line,end='')\n",
    "stream.close()"
   ]
  },
  {
   "cell_type": "markdown",
   "metadata": {},
   "source": [
    "When loading such a table, one can use the `np.loadtxt` function, using the keywords to inform it about the peculiarities in the format:"
   ]
  },
  {
   "cell_type": "code",
   "execution_count": 6,
   "metadata": {},
   "outputs": [
    {
     "name": "stdout",
     "output_type": "stream",
     "text": [
      "[[1.638 1.925 0.528]\n",
      " [2.669 1.568 2.725]\n",
      " [0.251 2.497 2.794]\n",
      " [0.482 0.312 1.385]]\n"
     ]
    }
   ],
   "source": [
    "coords = np.loadtxt('../lesson4/x_hr.txt',skiprows=2,delimiter='\\t|\\t')\n",
    "\n",
    "print(coords)"
   ]
  },
  {
   "cell_type": "markdown",
   "metadata": {},
   "source": [
    "Two useful optional keywords in the `loadtxt` function are `usecols` and `unpack`. The former is used to load only a subset of the columns in the file. The latter is used to return a list of 1D arrays separately containing the column data, instead of a single array of shape (nrows,ncols)."
   ]
  },
  {
   "cell_type": "code",
   "execution_count": 7,
   "metadata": {},
   "outputs": [
    {
     "name": "stdout",
     "output_type": "stream",
     "text": [
      "x_i= [1.638 2.669 0.251 0.482]\n",
      "x_i= [1.638 2.669 0.251 0.482]\n",
      "z_i= [0.528 2.725 2.794 1.385]\n",
      "z_i= [0.528 2.725 2.794 1.385]\n"
     ]
    }
   ],
   "source": [
    "# only load the x,z coordinates\n",
    "xz_coords = np.loadtxt('../lesson4/x_hr.txt',skiprows=2,delimiter='\\t|\\t',usecols=(0,2))\n",
    "\n",
    "# load the coordinates in separate 1D arrays\n",
    "x_i,y_i,z_i = np.loadtxt('../lesson4/x_hr.txt',skiprows=2,delimiter='\\t|\\t',unpack=True)\n",
    "\n",
    "print('x_i=',xz_coords[:,0])\n",
    "print('x_i=',x_i)\n",
    "\n",
    "print('z_i=',xz_coords[:,1])\n",
    "print('z_i=',z_i)"
   ]
  },
  {
   "cell_type": "markdown",
   "metadata": {},
   "source": [
    "The major limitations with the `loadtxt` function is that it does not handle missing values, and that it does not understand by itself tables with mixed numerical and non-numerical values. A **more advanced functionality** is implemented in **`numpy.genfromtxt`**, which handles missing values and can read in the column names to be used as keys for accessing the columns (very useful for large tables). It can also be asked to try to understand the data type of each column by itself. In order to show its functionalities in practice, we need to give it something sufficiently complex as input: let us try with the [catalogue](https://heasarc.gsfc.nasa.gov/W3Browse/all/fermigbrst.html) of *short gamma-ray bursts* observed by the *Gamma-ray burst monitor (GBM)* onboard the *Fermi* spacecraft. You can find a table containing a subset of that catalogue, called `fermi_gbm_short_grbs.table`, in the `lesson4` subdirectory of the repository. Let us take a look at the first few lines:"
   ]
  },
  {
   "cell_type": "code",
   "execution_count": 8,
   "metadata": {},
   "outputs": [
    {
     "name": "stdout",
     "output_type": "stream",
     "text": [
      "1 \n",
      "2 \n",
      "3 Results from heasarc_fermigbrst: Fermi GBM Burst Catalog\n",
      "4 Coordinate system:  Equatorial\n",
      "5 |name        |ra        |dec      |t90     |t90_error|flux_64 |flux_64_error|...\n",
      "6 |GRB080723913|07 33 12.0|-19 42 00|   0.192|    0.345|  5.2574|       0.7021|...\n"
     ]
    }
   ],
   "source": [
    "# open the file\n",
    "tab = open('../lesson4/fermi_gbm_short_grbs.table','r')\n",
    "\n",
    "# print the first 6 lines, showing line numbers, and shortening long lines\n",
    "for i in range(6):\n",
    "    l = tab.readline().strip('\\n')\n",
    "    if len(l)>77:\n",
    "        l = l[:77] + '...'\n",
    "    print(i+1,l)\n",
    "\n",
    "tab.close()"
   ]
  },
  {
   "cell_type": "markdown",
   "metadata": {},
   "source": [
    "This is a large text table whose values, with mixed formats, are separated by the character `|`. By taking a look at the website, you'll also learn that the table potentially contains missing values. We can try to read it through `genfromtxt` by carefully setting some of its keywords. We need to:\n",
    "- skip the first 4 lines, which contain auxiliary information: this is obtained by setting the `skip_header` keyword argument to `4`; \n",
    "- we need to specify the delimiter as `delimiter='|'`; \n",
    "- we need to skip the first column (to the left of the first `|`) as it is empty (otherwise `genfromtxt` would complain): this is obtained by setting `usecols=np.arange(1,17)` (yes, we need to know the number of columns in advance, unfortunately); \n",
    "- we would like to ask it to try to understand the column data types by itself: this is obtained by setting `dtype=None`;\n",
    "- apparently, we also need to tell it to understand by itself how to encode strings, by setting `encoding=None`;\n",
    "- finally, we want column names to be used as labels, which is obtained by setting `names=True` (this means that the first row **must** contain the column names.\n",
    "\n",
    "Here's the resulting function call:"
   ]
  },
  {
   "cell_type": "code",
   "execution_count": 9,
   "metadata": {},
   "outputs": [
    {
     "name": "stdout",
     "output_type": "stream",
     "text": [
      "Column names and dtypes:  [('name', '<U12'), ('ra', '<U10'), ('dec', '<U9'), ('t90', '<f8'), ('t90_error', '<f8'), ('flux_64', '<f8'), ('flux_64_error', '<f8'), ('pflx_comp_epeak', '<f8'), ('pflx_comp_epeak_pos_err', '<f8'), ('pflx_comp_epeak_neg_err', '<f8'), ('pflx_comp_index', '<f8'), ('pflx_comp_index_pos_err', '<f8'), ('pflx_comp_index_neg_err', '<f8'), ('pflx_comp_phtflux', '<f8'), ('pflx_comp_phtflux_error', '<f8'), ('f0', '?')]\n",
      "Data array shape:  (489,)\n"
     ]
    }
   ],
   "source": [
    "# load fermi sgrb table\n",
    "data = np.genfromtxt('../lesson4/fermi_gbm_short_grbs.table',\n",
    "                     delimiter=\"|\",\n",
    "                     skip_header=4,\n",
    "                     names=True,\n",
    "                     usecols=np.arange(1,17),\n",
    "                     dtype=None,\n",
    "                     encoding=None)\n",
    "\n",
    "print('Column names and dtypes: ', data.dtype)\n",
    "print('Data array shape: ',data.shape)"
   ]
  },
  {
   "cell_type": "markdown",
   "metadata": {},
   "source": [
    "Note that the resulting object is a **1D** array whose entries are structured objects, instead of 2D a matrix. The columns are now accessed by using their names as labels:"
   ]
  },
  {
   "cell_type": "code",
   "execution_count": 10,
   "metadata": {},
   "outputs": [
    {
     "name": "stdout",
     "output_type": "stream",
     "text": [
      "['GRB080723913' 'GRB080725541' 'GRB080802386' 'GRB080815917'\n",
      " 'GRB080831053' 'GRB080905499' 'GRB080919790' 'GRB081012045'\n",
      " 'GRB081024245' 'GRB081024891']\n"
     ]
    }
   ],
   "source": [
    "print(data['name'][0:10])"
   ]
  },
  {
   "cell_type": "code",
   "execution_count": 11,
   "metadata": {},
   "outputs": [
    {
     "name": "stdout",
     "output_type": "stream",
     "text": [
      "['-19 42 00' '+08 54 00' '+40 42 00' '-47 48 00' '-51 42 00' '-18 54 00'\n",
      " '+44 24 00' '+04 30 00' '+61 18 00' '+21 12 00']\n"
     ]
    }
   ],
   "source": [
    "print(data['dec'][0:10])"
   ]
  },
  {
   "cell_type": "code",
   "execution_count": 12,
   "metadata": {},
   "outputs": [
    {
     "name": "stdout",
     "output_type": "stream",
     "text": [
      "[ 5.40652   6.852386 10.74659   6.600304  4.098442  6.461617  4.932922\n",
      "  7.080282  6.377586  5.778066]\n"
     ]
    }
   ],
   "source": [
    "print(data['pflx_comp_phtflux'][0:10])"
   ]
  },
  {
   "cell_type": "code",
   "execution_count": 13,
   "metadata": {},
   "outputs": [
    {
     "name": "stdout",
     "output_type": "stream",
     "text": [
      "nan\n"
     ]
    }
   ],
   "source": [
    "print(data['pflx_comp_epeak'][-1])"
   ]
  },
  {
   "cell_type": "markdown",
   "metadata": {},
   "source": [
    "This last line of code demonstrates that some values are missing, in which case they're set to `nan` by default. "
   ]
  },
  {
   "cell_type": "markdown",
   "metadata": {},
   "source": [
    "## The pandas library\n",
    "While `numpy.genfromtxt` provides a nice set of functionalities for reading data tables, a much more powerful tool is represented by the dedicated `pandas` python package. It delivers new data types calles `pandas.Series` (which represents data columns) and `pandas.DataFrame` (which represents tables). It comes with a large number of functions to read and convert a wide range of table formats (including, among others, excel sheets and sql databases) and provides very nicely formatted outputs both in the command line and in the output files, with little effort. Let's use its function `read_csv` to read the *Fermi/GBM* table:"
   ]
  },
  {
   "cell_type": "code",
   "execution_count": 54,
   "metadata": {},
   "outputs": [],
   "source": [
    "import pandas\n",
    "\n",
    "data2 = pandas.read_csv('../lesson4/fermi_gbm_short_grbs.table',\n",
    "                        skiprows=4,# we need to specify the delimiter and the number of rows with comments\n",
    "                        delimiter='|',\n",
    "                        skipinitialspace=True)"
   ]
  },
  {
   "cell_type": "code",
   "execution_count": 55,
   "metadata": {},
   "outputs": [
    {
     "data": {
      "text/html": [
       "<div>\n",
       "<style scoped>\n",
       "    .dataframe tbody tr th:only-of-type {\n",
       "        vertical-align: middle;\n",
       "    }\n",
       "\n",
       "    .dataframe tbody tr th {\n",
       "        vertical-align: top;\n",
       "    }\n",
       "\n",
       "    .dataframe thead th {\n",
       "        text-align: right;\n",
       "    }\n",
       "</style>\n",
       "<table border=\"1\" class=\"dataframe\">\n",
       "  <thead>\n",
       "    <tr style=\"text-align: right;\">\n",
       "      <th></th>\n",
       "      <th>Unnamed: 0</th>\n",
       "      <th>name</th>\n",
       "      <th>ra</th>\n",
       "      <th>dec</th>\n",
       "      <th>t90</th>\n",
       "      <th>t90_error</th>\n",
       "      <th>flux_64</th>\n",
       "      <th>flux_64_error</th>\n",
       "      <th>pflx_comp_epeak</th>\n",
       "      <th>pflx_comp_epeak_pos_err</th>\n",
       "      <th>pflx_comp_epeak_neg_err</th>\n",
       "      <th>pflx_comp_index</th>\n",
       "      <th>pflx_comp_index_pos_err</th>\n",
       "      <th>pflx_comp_index_neg_err</th>\n",
       "      <th>pflx_comp_phtflux</th>\n",
       "      <th>pflx_comp_phtflux_error</th>\n",
       "      <th>Unnamed: 16</th>\n",
       "    </tr>\n",
       "  </thead>\n",
       "  <tbody>\n",
       "    <tr>\n",
       "      <th>0</th>\n",
       "      <td>NaN</td>\n",
       "      <td>GRB080723913</td>\n",
       "      <td>07 33 12.0</td>\n",
       "      <td>-19 42 00</td>\n",
       "      <td>0.192</td>\n",
       "      <td>0.345</td>\n",
       "      <td>5.2574</td>\n",
       "      <td>0.7021</td>\n",
       "      <td>592.3087</td>\n",
       "      <td>336.26660</td>\n",
       "      <td>336.26660</td>\n",
       "      <td>-0.905227</td>\n",
       "      <td>0.361319</td>\n",
       "      <td>0.361319</td>\n",
       "      <td>5.406520</td>\n",
       "      <td>0.956193</td>\n",
       "      <td>NaN</td>\n",
       "    </tr>\n",
       "    <tr>\n",
       "      <th>1</th>\n",
       "      <td>NaN</td>\n",
       "      <td>GRB080725541</td>\n",
       "      <td>23 39 12.0</td>\n",
       "      <td>+08 54 00</td>\n",
       "      <td>0.960</td>\n",
       "      <td>1.292</td>\n",
       "      <td>6.2687</td>\n",
       "      <td>0.7758</td>\n",
       "      <td>429.2190</td>\n",
       "      <td>196.91460</td>\n",
       "      <td>196.91460</td>\n",
       "      <td>-0.862144</td>\n",
       "      <td>0.366255</td>\n",
       "      <td>0.366255</td>\n",
       "      <td>6.852386</td>\n",
       "      <td>1.099482</td>\n",
       "      <td>NaN</td>\n",
       "    </tr>\n",
       "    <tr>\n",
       "      <th>2</th>\n",
       "      <td>NaN</td>\n",
       "      <td>GRB080802386</td>\n",
       "      <td>10 17 12.0</td>\n",
       "      <td>+40 42 00</td>\n",
       "      <td>0.576</td>\n",
       "      <td>0.091</td>\n",
       "      <td>10.4115</td>\n",
       "      <td>1.1162</td>\n",
       "      <td>343.7138</td>\n",
       "      <td>81.84171</td>\n",
       "      <td>81.84171</td>\n",
       "      <td>-0.382830</td>\n",
       "      <td>0.324399</td>\n",
       "      <td>0.324399</td>\n",
       "      <td>10.746590</td>\n",
       "      <td>1.522778</td>\n",
       "      <td>NaN</td>\n",
       "    </tr>\n",
       "    <tr>\n",
       "      <th>3</th>\n",
       "      <td>NaN</td>\n",
       "      <td>GRB080815917</td>\n",
       "      <td>16 03 36.0</td>\n",
       "      <td>-47 48 00</td>\n",
       "      <td>0.832</td>\n",
       "      <td>0.320</td>\n",
       "      <td>6.2631</td>\n",
       "      <td>0.9671</td>\n",
       "      <td>656.5027</td>\n",
       "      <td>1232.40500</td>\n",
       "      <td>1232.40500</td>\n",
       "      <td>-1.203444</td>\n",
       "      <td>0.403150</td>\n",
       "      <td>0.403150</td>\n",
       "      <td>6.600304</td>\n",
       "      <td>1.413045</td>\n",
       "      <td>NaN</td>\n",
       "    </tr>\n",
       "    <tr>\n",
       "      <th>4</th>\n",
       "      <td>NaN</td>\n",
       "      <td>GRB080831053</td>\n",
       "      <td>14 04 48.0</td>\n",
       "      <td>-51 42 00</td>\n",
       "      <td>0.576</td>\n",
       "      <td>1.168</td>\n",
       "      <td>4.6597</td>\n",
       "      <td>1.1050</td>\n",
       "      <td>170.4839</td>\n",
       "      <td>32.33955</td>\n",
       "      <td>32.33955</td>\n",
       "      <td>0.999451</td>\n",
       "      <td>1.114133</td>\n",
       "      <td>1.114133</td>\n",
       "      <td>4.098442</td>\n",
       "      <td>0.831934</td>\n",
       "      <td>NaN</td>\n",
       "    </tr>\n",
       "    <tr>\n",
       "      <th>...</th>\n",
       "      <td>...</td>\n",
       "      <td>...</td>\n",
       "      <td>...</td>\n",
       "      <td>...</td>\n",
       "      <td>...</td>\n",
       "      <td>...</td>\n",
       "      <td>...</td>\n",
       "      <td>...</td>\n",
       "      <td>...</td>\n",
       "      <td>...</td>\n",
       "      <td>...</td>\n",
       "      <td>...</td>\n",
       "      <td>...</td>\n",
       "      <td>...</td>\n",
       "      <td>...</td>\n",
       "      <td>...</td>\n",
       "      <td>...</td>\n",
       "    </tr>\n",
       "    <tr>\n",
       "      <th>484</th>\n",
       "      <td>NaN</td>\n",
       "      <td>GRB201221591</td>\n",
       "      <td>07 22 26.4</td>\n",
       "      <td>+32 02 24</td>\n",
       "      <td>0.032</td>\n",
       "      <td>0.369</td>\n",
       "      <td>15.7784</td>\n",
       "      <td>1.4022</td>\n",
       "      <td>NaN</td>\n",
       "      <td>NaN</td>\n",
       "      <td>NaN</td>\n",
       "      <td>NaN</td>\n",
       "      <td>NaN</td>\n",
       "      <td>NaN</td>\n",
       "      <td>NaN</td>\n",
       "      <td>NaN</td>\n",
       "      <td>NaN</td>\n",
       "    </tr>\n",
       "    <tr>\n",
       "      <th>485</th>\n",
       "      <td>NaN</td>\n",
       "      <td>GRB201221963</td>\n",
       "      <td>11 24 14.2</td>\n",
       "      <td>+42 08 36</td>\n",
       "      <td>0.144</td>\n",
       "      <td>0.066</td>\n",
       "      <td>40.6065</td>\n",
       "      <td>2.1297</td>\n",
       "      <td>NaN</td>\n",
       "      <td>NaN</td>\n",
       "      <td>NaN</td>\n",
       "      <td>NaN</td>\n",
       "      <td>NaN</td>\n",
       "      <td>NaN</td>\n",
       "      <td>NaN</td>\n",
       "      <td>NaN</td>\n",
       "      <td>NaN</td>\n",
       "    </tr>\n",
       "    <tr>\n",
       "      <th>486</th>\n",
       "      <td>NaN</td>\n",
       "      <td>GRB201227635</td>\n",
       "      <td>11 20 29.0</td>\n",
       "      <td>-73 36 47</td>\n",
       "      <td>0.112</td>\n",
       "      <td>0.116</td>\n",
       "      <td>103.1770</td>\n",
       "      <td>4.8904</td>\n",
       "      <td>NaN</td>\n",
       "      <td>NaN</td>\n",
       "      <td>NaN</td>\n",
       "      <td>NaN</td>\n",
       "      <td>NaN</td>\n",
       "      <td>NaN</td>\n",
       "      <td>NaN</td>\n",
       "      <td>NaN</td>\n",
       "      <td>NaN</td>\n",
       "    </tr>\n",
       "    <tr>\n",
       "      <th>487</th>\n",
       "      <td>NaN</td>\n",
       "      <td>GRB201231622</td>\n",
       "      <td>08 18 28.8</td>\n",
       "      <td>+39 03 36</td>\n",
       "      <td>0.256</td>\n",
       "      <td>0.500</td>\n",
       "      <td>8.1044</td>\n",
       "      <td>1.3049</td>\n",
       "      <td>NaN</td>\n",
       "      <td>NaN</td>\n",
       "      <td>NaN</td>\n",
       "      <td>NaN</td>\n",
       "      <td>NaN</td>\n",
       "      <td>NaN</td>\n",
       "      <td>NaN</td>\n",
       "      <td>NaN</td>\n",
       "      <td>NaN</td>\n",
       "    </tr>\n",
       "    <tr>\n",
       "      <th>488</th>\n",
       "      <td>NaN</td>\n",
       "      <td>GRB210119121</td>\n",
       "      <td>18 51 13.0</td>\n",
       "      <td>-61 48 04</td>\n",
       "      <td>0.048</td>\n",
       "      <td>0.058</td>\n",
       "      <td>11.7462</td>\n",
       "      <td>1.3178</td>\n",
       "      <td>NaN</td>\n",
       "      <td>NaN</td>\n",
       "      <td>NaN</td>\n",
       "      <td>NaN</td>\n",
       "      <td>NaN</td>\n",
       "      <td>NaN</td>\n",
       "      <td>NaN</td>\n",
       "      <td>NaN</td>\n",
       "      <td>NaN</td>\n",
       "    </tr>\n",
       "  </tbody>\n",
       "</table>\n",
       "<p>489 rows × 17 columns</p>\n",
       "</div>"
      ],
      "text/plain": [
       "     Unnamed: 0  name          ra          dec        t90       t90_error  \\\n",
       "0           NaN  GRB080723913  07 33 12.0  -19 42 00     0.192      0.345   \n",
       "1           NaN  GRB080725541  23 39 12.0  +08 54 00     0.960      1.292   \n",
       "2           NaN  GRB080802386  10 17 12.0  +40 42 00     0.576      0.091   \n",
       "3           NaN  GRB080815917  16 03 36.0  -47 48 00     0.832      0.320   \n",
       "4           NaN  GRB080831053  14 04 48.0  -51 42 00     0.576      1.168   \n",
       "..          ...           ...         ...        ...       ...        ...   \n",
       "484         NaN  GRB201221591  07 22 26.4  +32 02 24     0.032      0.369   \n",
       "485         NaN  GRB201221963  11 24 14.2  +42 08 36     0.144      0.066   \n",
       "486         NaN  GRB201227635  11 20 29.0  -73 36 47     0.112      0.116   \n",
       "487         NaN  GRB201231622  08 18 28.8  +39 03 36     0.256      0.500   \n",
       "488         NaN  GRB210119121  18 51 13.0  -61 48 04     0.048      0.058   \n",
       "\n",
       "     flux_64   flux_64_error  pflx_comp_epeak  pflx_comp_epeak_pos_err  \\\n",
       "0      5.2574         0.7021         592.3087                336.26660   \n",
       "1      6.2687         0.7758         429.2190                196.91460   \n",
       "2     10.4115         1.1162         343.7138                 81.84171   \n",
       "3      6.2631         0.9671         656.5027               1232.40500   \n",
       "4      4.6597         1.1050         170.4839                 32.33955   \n",
       "..        ...            ...              ...                      ...   \n",
       "484   15.7784         1.4022              NaN                      NaN   \n",
       "485   40.6065         2.1297              NaN                      NaN   \n",
       "486  103.1770         4.8904              NaN                      NaN   \n",
       "487    8.1044         1.3049              NaN                      NaN   \n",
       "488   11.7462         1.3178              NaN                      NaN   \n",
       "\n",
       "     pflx_comp_epeak_neg_err  pflx_comp_index  pflx_comp_index_pos_err  \\\n",
       "0                  336.26660        -0.905227                 0.361319   \n",
       "1                  196.91460        -0.862144                 0.366255   \n",
       "2                   81.84171        -0.382830                 0.324399   \n",
       "3                 1232.40500        -1.203444                 0.403150   \n",
       "4                   32.33955         0.999451                 1.114133   \n",
       "..                       ...              ...                      ...   \n",
       "484                      NaN              NaN                      NaN   \n",
       "485                      NaN              NaN                      NaN   \n",
       "486                      NaN              NaN                      NaN   \n",
       "487                      NaN              NaN                      NaN   \n",
       "488                      NaN              NaN                      NaN   \n",
       "\n",
       "     pflx_comp_index_neg_err  pflx_comp_phtflux  pflx_comp_phtflux_error  \\\n",
       "0                   0.361319           5.406520                 0.956193   \n",
       "1                   0.366255           6.852386                 1.099482   \n",
       "2                   0.324399          10.746590                 1.522778   \n",
       "3                   0.403150           6.600304                 1.413045   \n",
       "4                   1.114133           4.098442                 0.831934   \n",
       "..                       ...                ...                      ...   \n",
       "484                      NaN                NaN                      NaN   \n",
       "485                      NaN                NaN                      NaN   \n",
       "486                      NaN                NaN                      NaN   \n",
       "487                      NaN                NaN                      NaN   \n",
       "488                      NaN                NaN                      NaN   \n",
       "\n",
       "     Unnamed: 16  \n",
       "0            NaN  \n",
       "1            NaN  \n",
       "2            NaN  \n",
       "3            NaN  \n",
       "4            NaN  \n",
       "..           ...  \n",
       "484          NaN  \n",
       "485          NaN  \n",
       "486          NaN  \n",
       "487          NaN  \n",
       "488          NaN  \n",
       "\n",
       "[489 rows x 17 columns]"
      ]
     },
     "execution_count": 55,
     "metadata": {},
     "output_type": "execute_result"
    }
   ],
   "source": [
    "data2 # show the table"
   ]
  },
  {
   "cell_type": "markdown",
   "metadata": {},
   "source": [
    "When used with `jupyter notebook`, it displays tables in a beautifully formatted, scrollable format. It understood the column formats seamlessly, and didn't complain about the missing data in the first column. Column names are stored in the `columns` member of the resulting `DataFrame` class instance:"
   ]
  },
  {
   "cell_type": "code",
   "execution_count": 56,
   "metadata": {},
   "outputs": [
    {
     "name": "stdout",
     "output_type": "stream",
     "text": [
      "Index(['Unnamed: 0', 'name        ', 'ra        ', 'dec      ', 't90     ',\n",
      "       't90_error', 'flux_64 ', 'flux_64_error', 'pflx_comp_epeak',\n",
      "       'pflx_comp_epeak_pos_err', 'pflx_comp_epeak_neg_err', 'pflx_comp_index',\n",
      "       'pflx_comp_index_pos_err', 'pflx_comp_index_neg_err',\n",
      "       'pflx_comp_phtflux', 'pflx_comp_phtflux_error', 'Unnamed: 16'],\n",
      "      dtype='object')\n"
     ]
    }
   ],
   "source": [
    "print(data2.columns)"
   ]
  },
  {
   "cell_type": "markdown",
   "metadata": {},
   "source": [
    "Unfortunately, one annoying aspect is that `pandas` keeps any whitespace between delimiters as part of the column names. We can fix that as follows:"
   ]
  },
  {
   "cell_type": "code",
   "execution_count": 58,
   "metadata": {},
   "outputs": [],
   "source": [
    "data2.columns = data2.columns.str.strip() # use the method str.strip() to remove whitespace from the column names"
   ]
  },
  {
   "cell_type": "code",
   "execution_count": 59,
   "metadata": {},
   "outputs": [
    {
     "name": "stdout",
     "output_type": "stream",
     "text": [
      "Index(['Unnamed: 0', 'name', 'ra', 'dec', 't90', 't90_error', 'flux_64',\n",
      "       'flux_64_error', 'pflx_comp_epeak', 'pflx_comp_epeak_pos_err',\n",
      "       'pflx_comp_epeak_neg_err', 'pflx_comp_index', 'pflx_comp_index_pos_err',\n",
      "       'pflx_comp_index_neg_err', 'pflx_comp_phtflux',\n",
      "       'pflx_comp_phtflux_error', 'Unnamed: 16'],\n",
      "      dtype='object')\n"
     ]
    }
   ],
   "source": [
    "print(data2.columns)"
   ]
  },
  {
   "cell_type": "markdown",
   "metadata": {},
   "source": [
    "We can now access the column data using the column name as a label, as before:"
   ]
  },
  {
   "cell_type": "code",
   "execution_count": 60,
   "metadata": {},
   "outputs": [
    {
     "data": {
      "text/plain": [
       "0    GRB080723913\n",
       "1    GRB080725541\n",
       "2    GRB080802386\n",
       "3    GRB080815917\n",
       "4    GRB080831053\n",
       "5    GRB080905499\n",
       "6    GRB080919790\n",
       "7    GRB081012045\n",
       "8    GRB081024245\n",
       "9    GRB081024891\n",
       "Name: name, dtype: object"
      ]
     },
     "execution_count": 60,
     "metadata": {},
     "output_type": "execute_result"
    }
   ],
   "source": [
    "data2['name'][0:10]"
   ]
  },
  {
   "cell_type": "markdown",
   "metadata": {},
   "source": [
    "An additional caveat is that indexing `pandas` columns with integer indices as if they were numpy arrays could produce errors: we better use the built-in locator `iloc`, as follows:"
   ]
  },
  {
   "cell_type": "code",
   "execution_count": 83,
   "metadata": {},
   "outputs": [
    {
     "data": {
      "text/plain": [
       "1      6.852386\n",
       "10     7.048840\n",
       "488         NaN\n",
       "Name: pflx_comp_phtflux, dtype: float64"
      ]
     },
     "execution_count": 83,
     "metadata": {},
     "output_type": "execute_result"
    }
   ],
   "source": [
    "my_idx = [1,10,-1]\n",
    "\n",
    "#data2['pflx_comp_phtflux'][my_idx] # <--- this doesn't work\n",
    "data2['pflx_comp_phtflux'].iloc[my_idx] # <--- this does!"
   ]
  },
  {
   "cell_type": "markdown",
   "metadata": {},
   "source": [
    "\n",
    "## Exercise 7\n",
    "\n",
    "We now would like to compute and plot the inverse cumulative all-sky observed rate of short GRB peak photon fluxes from the catalog. The peak photon flux (in $\\mathrm{photons}\\,\\mathrm{cm^{-2}}\\,\\mathrm{s^{-1}}$) of each event in the catalog is contained in column `pflx_comp_phtflux`, with the associated 1-sigma error being stored in column `pflx_comp_phtflux_error`. The inverse cumulative all-sky observed rate, which we denote as $\\dot N(>p)$, is defined as the number of short GRBs that *Fermi/GBM* would detect per year above a given limiting photon flux $p$ if the detector had a 100% duty cycle (i.e. it never turned off) and a $4\\pi$ field of view. Knowing that the actual field of view is $\\Delta\\Omega=9.5\\,\\mathrm{sr}$ and the average duty cycle is $\\eta=0.7$ (due mainly to the detector having to turn off while passing through the [South Atlantic Anomaly](https://en.wikipedia.org/wiki/South_Atlantic_Anomaly)), we can estimate this quantity by computing the inverse cumulative distribution $N_\\mathrm{obs}(>p)$ of the photon flux from the catalog, and then dividing by the total observing time $T$ (in years) and rescaling to account for the field of view and duty cycle, as follows: \n",
    "$$ \\dot N(>p) = \\eta^{-1}\\frac{4\\pi}{\\Delta\\Omega}\\frac{N_\\mathrm{obs}(>p)}{T} $$\n",
    "The inverse cumulative distribution $N_\\mathrm{obs}(>p)$ is most easily computed by sorting the photon fluxes in column `pflx_comp_phtflux` and simply \"counting\" the resulting array in descending order. In order to find out the total observing time, then, we can exploit the fact that GRB names contain the date of observation, in the format GRByymmddfff, where fff gives the trigger hour as a fraction of a day (understood as 0.fff). The result is best presented on a log-log plot (usually referred to as the \"logN-logS\" plot), as the expected distribution, at the highest fluxes, goes as $\\propto p^{-3/2}$. We need to be careful, though, because of the missing values!"
   ]
  },
  {
   "cell_type": "code",
   "execution_count": 84,
   "metadata": {},
   "outputs": [
    {
     "name": "stdout",
     "output_type": "stream",
     "text": [
      "Total obs. time: 11.73 yr\n"
     ]
    },
    {
     "data": {
      "text/plain": [
       "Text(0, 0.5, '$\\\\dot N(>p)$ [yr$^{-1}$]')"
      ]
     },
     "execution_count": 84,
     "metadata": {},
     "output_type": "execute_result"
    },
    {
     "data": {
      "image/png": "[encoded data removed]",
      "text/plain": [
       "<Figure size 432x288 with 1 Axes>"
      ]
     },
     "metadata": {
      "needs_background": "light"
     },
     "output_type": "display_data"
    }
   ],
   "source": [
    "valid = data2['pflx_comp_phtflux']>0.\n",
    "p = data2['pflx_comp_phtflux'][valid]\n",
    "s = np.argsort(data2['pflx_comp_phtflux'][valid]) # sorting index\n",
    "Nobs = np.arange(len(s))[::-1] # inverse cumulative\n",
    "\n",
    "eta = 0.7 # GBM duty cycle\n",
    "DOmega = 9.5 # GBM FoV\n",
    "\n",
    "# find total obs time\n",
    "sorted_names = np.sort(data2['name'][valid])\n",
    "n0 = sorted_names[0].lstrip('GRB')\n",
    "n1 = sorted_names[-1].lstrip('GRB')\n",
    "t0 = float(n0[0:2]) + float(n0[2:4])/12. + float(n0[4:])/365000.\n",
    "t1 = float(n1[0:2]) + float(n1[2:4])/12. + float(n1[4:])/365000.\n",
    "T = t1-t0\n",
    "\n",
    "print('Total obs. time: {0:.2f} yr'.format(T))\n",
    "\n",
    "# compute inverse cumulative all-sky observed rate\n",
    "dotN = eta**-1*4*np.pi/DOmega*Nobs/T\n",
    "\n",
    "# show the result in a log-log plot\n",
    "import matplotlib.pyplot as plt\n",
    "\n",
    "plt.plot(data2['pflx_comp_phtflux'][valid].iloc[s],Nobs,'-r')\n",
    "\n",
    "# include theoretically expected distribution\n",
    "p2 = np.logspace(1,2.5,10)\n",
    "dotN_expected = 10.*(p2/100.)**-1.5\n",
    "plt.plot(p2,dotN_expected,'--k')\n",
    "plt.annotate(r'$\\propto p^{-3/2}$',xy=(100.,6.),rotation=-50)\n",
    "\n",
    "plt.loglog()\n",
    "plt.xlabel(r'Peak photon flux [ph cm$^{-1}$ s$^{-1}$]')\n",
    "plt.ylabel(r'$\\dot N(>p)$ [yr$^{-1}$]')"
   ]
  },
  {
   "cell_type": "markdown",
   "metadata": {},
   "source": [
    "How would you proceed if you wanted to show the uncertainty on the distribution arising from the photon flux measurement errors? And what about Poisson uncertainty in the low-count part of the distribution?"
   ]
  },
  {
   "cell_type": "markdown",
   "metadata": {},
   "source": [
    "## Exercise 8\n",
    "\n",
    "Plot the sky distribution of the gamma-ray bursts in the catalogue, to demonstrate it is isotropic (tip: you need an equal-area [projection](https://matplotlib.org/stable/gallery/subplots_axes_and_figures/geo_demo.html) of the sphere!)"
   ]
  },
  {
   "cell_type": "markdown",
   "metadata": {},
   "source": [
    "## Exercise 9\n",
    "\n",
    "The band over which *Fermi/GBM* is sensitive extends from about `8 keV` to several tens of thousands of `keV`, but the fluxes are customarily given in the narrower `[10-1000] keV` band. This is still much wider than the `[15-150] keV` band over which another instrument, the Burst Alert Telescope (BAT) onboard the *Neil Gehrels Swift Observatory* satellite, is sensitive. The *Swift* satellite, though, has much better localization capabilities, and can slew extremely fast in order to point its X-ray telescope towards the direction of the localized gamma-ray burst: these exceptional capabilities allow *Swift* to pinpont the host galaxy of many gamma-ray bursts, from which we can measure their redshifts. With these premises, and given the much larger band of *Fermi/GBM*, one may want to evaluate which fraction of gamma-ray bursts would be detectable by *Swift/BAT*, given the spectral information obtained from *Fermi/GBM*. To do that, we need a couple additional pieces of information:\n",
    "- the spectral shape model that is fitted to the *GBM* spectra to provide the information contained in our table is defined as:\n",
    "$$ \\frac{dN}{dE} = A E^{\\alpha} \\exp(-(2+\\alpha)E/E_\\mathrm{peak}) $$\n",
    "where $dN/dE$ denotes the number of photons (per unit detector area, per unit time) with energy $E=h\\nu$ comprised between $E$ and $E+dE$ that hit the detector; $A$ is a normalization constant; $\\alpha$ is known as the \"low-energy spectral index\" and its value is given in column `pflx_comp_index`; $E_\\mathrm{peak}$ is the photon energy at which most of the gamma-ray burst energy is delivered.\n",
    "- the sensitivity of *Swift/BAT* is such that, on average, gamma-ray bursts can be detected as long as their peak photon flux in the `[15-150] keV` band is larger than $0.4\\, \\mathrm{photons\\, cm^{-2}\\, s^{-1}}$`.\n",
    "\n",
    "Given these pieces of information, would you be able to evaluate which fraction of the gamma-ray bursts in the table would be detectable by *Swift/BAT*? Tip: remember that `np.trapz` provides an efficient way to compute numerical integrals with the trapezoidal rule, and be aware that it can even operate on n-dimensional arrays by integrating everything along a specified `axis`."
   ]
  },
  {
   "cell_type": "code",
   "execution_count": null,
   "metadata": {},
   "outputs": [],
   "source": []
  }
 ],
 "metadata": {
  "kernelspec": {
   "display_name": "Python 3",
   "language": "python",
   "name": "python3"
  },
  "language_info": {
   "codemirror_mode": {
    "name": "ipython",
    "version": 3
   },
   "file_extension": ".py",
   "mimetype": "text/x-python",
   "name": "python",
   "nbconvert_exporter": "python",
   "pygments_lexer": "ipython3",
   "version": "3.8.5"
  }
 },
 "nbformat": 4,
 "nbformat_minor": 4
}
