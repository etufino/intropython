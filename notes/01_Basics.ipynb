{
 "cells": [
  {
   "cell_type": "markdown",
   "metadata": {},
   "source": [
    "# INTRODUCTION"
   ]
  },
  {
   "cell_type": "markdown",
   "metadata": {},
   "source": [
    "## Jupyter: how to interact with this notebook\n",
    "\n",
    "All our lesson notes and code examples will be delivered as jupyter notebooks. If you open this notebook on your local machine, you can interact with it, modify the code and run the cells. To modify a code cell, just click on it once. To modify a text cell, double-click it: it will turn editable. The syntax is based on <a href=\"https://www.google.com/url?sa=t&rct=j&q=&esrc=s&source=web&cd=8&cad=rja&uact=8&ved=2ahUKEwjgtIavhu3dAhWxlosKHbLNABMQFjAHegQIBBAB&url=https%3A%2F%2Fwww.markdownguide.org%2F&usg=AOvVaw1fohdJEEbL6kohiJ-Pimbe\" > Markdown</a>, a very simple yet powerful markup language, which allows for embedded html code. You can also type in $\\LaTeX$ formulae, just enclose them between dollar signs \\$. To execute a code cell or to render a markdown cell, press SHIFT+ENTER."
   ]
  },
  {
   "cell_type": "markdown",
   "metadata": {},
   "source": [
    "# Python: basic concepts and syntax"
   ]
  },
  {
   "cell_type": "markdown",
   "metadata": {},
   "source": [
    "Python is a popular programming language created in 1991. Python is an interpreted (i.e. not compiled, the code is \"interpreted\" at run-time), object-oriented (i.e. oriented toward creation of \"objects\", which may contain data in the form of fields), high-level programming language with dynamic semantics. Its high-level built in data structures, combined with dynamic typing and dynamic binding, make it very attractive for rapid application development, as well as for use as a scripting language to connect existing components together. It is characterised by modularity, readability and easy to learn syntax.\n",
    "\n",
    "BASIC SYNTAX:\n",
    "            \n",
    "- Python uses **new lines to complete a command** (i.e. each istruction has to start in a new line), as opposed to other programming languages which often use semicolons (like C/C++, Java etc.) or parentheses. (Note: semicolons can be also be accepted, probably because of C heritage)"
   ]
  },
  {
   "cell_type": "code",
   "execution_count": 1,
   "metadata": {},
   "outputs": [
    {
     "name": "stdout",
     "output_type": "stream",
     "text": [
      "Hello, World!\n",
      "Hello, again!\n"
     ]
    }
   ],
   "source": [
    "print(\"Hello, World!\")\n",
    "print(\"Hello, again!\")"
   ]
  },
  {
   "cell_type": "code",
   "execution_count": 2,
   "metadata": {},
   "outputs": [
    {
     "ename": "SyntaxError",
     "evalue": "invalid syntax (<ipython-input-2-784af382fbb2>, line 1)",
     "output_type": "error",
     "traceback": [
      "\u001b[0;36m  File \u001b[0;32m\"<ipython-input-2-784af382fbb2>\"\u001b[0;36m, line \u001b[0;32m1\u001b[0m\n\u001b[0;31m    print(\"Hello, World!\") print(\"Hello, again!\")\u001b[0m\n\u001b[0m                           ^\u001b[0m\n\u001b[0;31mSyntaxError\u001b[0m\u001b[0;31m:\u001b[0m invalid syntax\n"
     ]
    }
   ],
   "source": [
    "print(\"Hello, World!\") print(\"Hello, again!\")"
   ]
  },
  {
   "cell_type": "markdown",
   "metadata": {},
   "source": [
    "- Python relies on **indentation**, using whitespace (space or tab), to define scope (i.e. the region of the code where something that has been defined or created can be correctly used). Indentation is necessary to define the scope of logic statements, loops, functions and classes. Other programming languages (like C/C++) often use curly-brackets for this purpose. Python will give you an error if you skip the indentation:"
   ]
  },
  {
   "cell_type": "code",
   "execution_count": 3,
   "metadata": {},
   "outputs": [
    {
     "name": "stdout",
     "output_type": "stream",
     "text": [
      "3 > 2\n"
     ]
    }
   ],
   "source": [
    "if 3 > 2:\n",
    "    print(\"3 > 2\")"
   ]
  },
  {
   "cell_type": "code",
   "execution_count": 4,
   "metadata": {},
   "outputs": [
    {
     "ename": "IndentationError",
     "evalue": "expected an indented block (<ipython-input-4-386cd53e4ddb>, line 2)",
     "output_type": "error",
     "traceback": [
      "\u001b[0;36m  File \u001b[0;32m\"<ipython-input-4-386cd53e4ddb>\"\u001b[0;36m, line \u001b[0;32m2\u001b[0m\n\u001b[0;31m    print(\"3 > 2\")\u001b[0m\n\u001b[0m    ^\u001b[0m\n\u001b[0;31mIndentationError\u001b[0m\u001b[0;31m:\u001b[0m expected an indented block\n"
     ]
    }
   ],
   "source": [
    "if 3 > 2:\n",
    "print(\"3 > 2\")"
   ]
  },
  {
   "cell_type": "markdown",
   "metadata": {},
   "source": [
    "- **Comments** start with `#`, and Python will render the rest of the line as a comment: "
   ]
  },
  {
   "cell_type": "code",
   "execution_count": 5,
   "metadata": {},
   "outputs": [
    {
     "name": "stdout",
     "output_type": "stream",
     "text": [
      "Hello, World!\n"
     ]
    }
   ],
   "source": [
    "# This is a comment. Comment lines start with a hash (#)\n",
    "print(\"Hello, World!\") # you can also add a comment at the end of a line"
   ]
  },
  {
   "cell_type": "markdown",
   "metadata": {},
   "source": [
    "- Finally, another kind of comment is represented by **docstrings**. A docstring is a string that usually occurs as the first statement in a module, function, class, or method definition. The role of docstrings is to provide a convenient way of associating documentation to any defined object. Docstrings can also be accessed by the __doc__ attribute on objects actually providing a handy run time help tool. Docstring can be split on several lines and must begin and end with triple quotes."
   ]
  },
  {
   "cell_type": "code",
   "execution_count": 6,
   "metadata": {},
   "outputs": [
    {
     "name": "stdout",
     "output_type": "stream",
     "text": [
      "Hello, World!\n"
     ]
    }
   ],
   "source": [
    "\"\"\"\n",
    "This is a\n",
    "multiline docstring. It is\n",
    "enclosed by three double-quotes,\n",
    "and it can be either a comment\n",
    "or contain documentation text\n",
    "if placed at the beginning of\n",
    "a function or class or other objects.\n",
    "\"\"\"\n",
    "\n",
    "print(\"Hello, World!\")"
   ]
  },
  {
   "cell_type": "markdown",
   "metadata": {},
   "source": [
    "# Data type, variables and operators"
   ]
  },
  {
   "cell_type": "markdown",
   "metadata": {},
   "source": [
    "Python has no command for declaring the variable type. A variable is created the moment you first assign a value to it. Variables usually do not need to be declared with any particular type and can even change type after they have been set (you are actually using the same name for a new variable, in that case). Finally, variable names are case sensitive, can only contain alpha-numeric characters and underscores (A-z, 0-9, and _ ) and can start only with a letter or the underscore character."
   ]
  },
  {
   "cell_type": "code",
   "execution_count": 7,
   "metadata": {},
   "outputs": [
    {
     "name": "stdout",
     "output_type": "stream",
     "text": [
      "5\n",
      "Hello World!\n",
      "Hello again!\n"
     ]
    }
   ],
   "source": [
    "x = 5\n",
    "y = \"Hello World!\"\n",
    "print(x)\n",
    "print(y)\n",
    "x = \"Hello again!\"\n",
    "print(x)"
   ]
  },
  {
   "cell_type": "markdown",
   "metadata": {},
   "source": [
    "As shown, the basic data type are **numbers** and **strings**, where the latter need double `\" \"` or single `' '` quotes. "
   ]
  },
  {
   "cell_type": "markdown",
   "metadata": {},
   "source": [
    "## Numbers"
   ]
  },
  {
   "cell_type": "markdown",
   "metadata": {},
   "source": [
    "There are three numeric types in Python ( https://docs.python.org/3/library/stdtypes.html#numeric-types-int-float-complex ):\n",
    "\n",
    "    int\n",
    "    float\n",
    "    complex\n",
    " that correspond to integer, real and complex numbers"
   ]
  },
  {
   "cell_type": "code",
   "execution_count": 8,
   "metadata": {},
   "outputs": [
    {
     "name": "stdout",
     "output_type": "stream",
     "text": [
      "5 5.0 (1+3j)\n"
     ]
    }
   ],
   "source": [
    "x = 5    # integer\n",
    "y = 5.  # real\n",
    "z = 1+3j # complex, j represents the imaginary unit\n",
    "print(x,y,z)"
   ]
  },
  {
   "cell_type": "markdown",
   "metadata": {},
   "source": [
    "To check the type of any object use the type() function:"
   ]
  },
  {
   "cell_type": "code",
   "execution_count": 9,
   "metadata": {},
   "outputs": [
    {
     "name": "stdout",
     "output_type": "stream",
     "text": [
      "<class 'int'>\n",
      "<class 'float'>\n",
      "<class 'complex'>\n",
      "x is integer\n"
     ]
    }
   ],
   "source": [
    "print(type(x))\n",
    "print(type(y))\n",
    "print(type(z))\n",
    "\n",
    "if type(x)==float:\n",
    "    print('x is float')\n",
    "elif type(x)==int:\n",
    "    print('x is integer')"
   ]
  },
  {
   "cell_type": "markdown",
   "metadata": {},
   "source": [
    "To explictly specify the type of a variable you need to cast its value at the moment of creation:\n",
    "\n",
    "  - use `int()` to construct an integer number from an integer literal, a float literal (by rounding down to the previous whole number), or a string literal (provided that the string represents a whole number)\n",
    "  - use `float()` to constructs a float number from an integer literal, a float literal or a string literal (providing the string represents a float or an integer)\n",
    "  - use `str()` to constructs a string from data types, including strings, integer literals and float literals\n"
   ]
  },
  {
   "cell_type": "code",
   "execution_count": 10,
   "metadata": {},
   "outputs": [
    {
     "name": "stdout",
     "output_type": "stream",
     "text": [
      "4 <class 'int'>\n",
      "5.7 <class 'float'>\n",
      "3.0 <class 'str'>\n"
     ]
    }
   ],
   "source": [
    "x = int(4.8)    # x will be 4\n",
    "y = float(\"5.7\")# y will be 5.7  \n",
    "z = str(3.0)    # z will be '3.0' \n",
    "print(x,type(x))\n",
    "print(y,type(y))\n",
    "print(z,type(z))"
   ]
  },
  {
   "cell_type": "markdown",
   "metadata": {},
   "source": [
    "## Strings"
   ]
  },
  {
   "cell_type": "markdown",
   "metadata": {},
   "source": [
    "Python is exetremely useful when dealing with strings. Strings in Python are arrays of bytes representing unicode characters (i.e. all symbols on your keyboard and much more). Square brackets `[ ]` can be used to access elements of the string. Like C programming language the array index goes **from 0 to length-1**. The length can be found by  employing the standard function `len(args)`. A fancy feature of python is that you can use a negative number as index: it will go backwards starting from the end of the string (i.e. [-1] is the last charachter)."
   ]
  },
  {
   "cell_type": "code",
   "execution_count": 11,
   "metadata": {},
   "outputs": [
    {
     "name": "stdout",
     "output_type": "stream",
     "text": [
      "The string has 5 characters, the second one is ' e ' and the last one is ' o '\n"
     ]
    }
   ],
   "source": [
    "x = \"Hello\"\n",
    "print(\"The string has\", len(x), \"characters, the second one is '\", x[1], \"' and the last one is '\", x[-1], \"'\")"
   ]
  },
  {
   "cell_type": "markdown",
   "metadata": {},
   "source": [
    "Python has a large number of methods (https://docs.python.org/3/library/stdtypes.html#string-methods) explicitly designed to manipulate strings. Methods are invoked by\n",
    "\n",
    "            string.method(args)\n",
    "and return a new string with changes applied."
   ]
  },
  {
   "cell_type": "code",
   "execution_count": 12,
   "metadata": {},
   "outputs": [
    {
     "name": "stdout",
     "output_type": "stream",
     "text": [
      "Hello\n"
     ]
    }
   ],
   "source": [
    "# Replace a character in x\n",
    "x = \"Hallo\"\n",
    "x = x.replace(\"a\",\"e\")\n",
    "print(x)"
   ]
  },
  {
   "cell_type": "markdown",
   "metadata": {},
   "source": [
    "### Raw strings "
   ]
  },
  {
   "cell_type": "markdown",
   "metadata": {},
   "source": [
    "Raw strings are particular strings that do not follow the usual escape rules (e.g. `\\n` starts a new line). A raw string is created by adding an `r` in front of the string so `r'\\n'` does not have any special meaning.\n",
    "\n",
    "REMIND: plot labels written in LaTex code have a lot of `\\` that are not escape charachters! Raw strings will be very useful!"
   ]
  },
  {
   "cell_type": "code",
   "execution_count": 13,
   "metadata": {},
   "outputs": [
    {
     "name": "stdout",
     "output_type": "stream",
     "text": [
      " ciao \n",
      " ciao\n",
      "\n",
      " DIFFERS FROM \n",
      "\n",
      " ciao \\n ciao\n"
     ]
    }
   ],
   "source": [
    "print(\" ciao \\n ciao\")\n",
    "print(\"\\n DIFFERS FROM \\n\")\n",
    "print(r\" ciao \\n ciao\")"
   ]
  },
  {
   "cell_type": "markdown",
   "metadata": {},
   "source": [
    "### String formatting"
   ]
  },
  {
   "cell_type": "markdown",
   "metadata": {},
   "source": [
    "If you need to insert numbers in your strings and format them in specific ways, Python has (at least) two main formatting methods (see here for full details https://pyformat.info ):\n",
    "\n",
    "- the old-style `%` character (C-like, i.e. `%d` for int, `%s` for string, `%f` or `%g` for floating point, `%e` for the expontial form)\n",
    "- new-style with `.format()` keyword"
   ]
  },
  {
   "cell_type": "code",
   "execution_count": 14,
   "metadata": {},
   "outputs": [
    {
     "name": "stdout",
     "output_type": "stream",
     "text": [
      "1 2\n",
      "3 4\n"
     ]
    }
   ],
   "source": [
    "string1 = '%d %d' % (1, 2)\n",
    "string2 = '{} {}'.format(3, 4)\n",
    "\n",
    "print(string1)\n",
    "print(string2)"
   ]
  },
  {
   "cell_type": "markdown",
   "metadata": {},
   "source": [
    "The second method is much more powerful and should be preferred. Inside `{ }` spefic formatting instructions can be specifed. "
   ]
  },
  {
   "cell_type": "code",
   "execution_count": 15,
   "metadata": {},
   "outputs": [
    {
     "name": "stdout",
     "output_type": "stream",
     "text": [
      "341              4.59e+02\n"
     ]
    }
   ],
   "source": [
    "string3 = '{0:<4d} {second_number:>20.2e}'.format(341, second_number=4.5871e2)\n",
    "\n",
    "print(string3)"
   ]
  },
  {
   "cell_type": "markdown",
   "metadata": {},
   "source": [
    "In this specific example:\n",
    "- the first item in parentheses before the colon `:` is either a number (which indicates which of the arguments of the format method is to be used as input here - 0 is the first one) or a keyword (as in the second example above);\n",
    "- `<` or `>` sets left or right aligment respectively;\n",
    "- the first number after the alignment specification sets the total number of figures that will be used, while the number after the dot `.` sets the decimal places or the precision;\n",
    "- the letter (same meaning as the old-style format) specifies the number or data type. \n",
    "\n",
    "Below are a graphical explanation and a summary table: "
   ]
  },
  {
   "attachments": {
    "image.png": {
     "image/png": "[encoded data removed]"
    }
   },
   "cell_type": "markdown",
   "metadata": {},
   "source": [
    "![image.png](attachment:image.png)"
   ]
  },
  {
   "cell_type": "markdown",
   "metadata": {},
   "source": [
    "Option | Meaning\n",
    "-------|--------\n",
    "'<' |\tThe field will be left-aligned within the available space. This is usually the default for strings.\n",
    "'>' |\tThe field will be right-aligned within the available space. This is the default for numbers.\n",
    "'0' |\tIf the width field is preceded by a zero ('0') character, sign-aware zero-padding for numeric types will be enabled.\n",
    "',' |\tThis option signals the use of a comma for a thousands separator.\n",
    "'=' |\tForces the padding to be placed after the sign (if any) but before the digits. This is used for printing fields in the form \"+000000120\". This alignment option is only valid for numeric types.\n",
    "'^' |\tForces the field to be centered within the available space.\n",
    "'+' |\tindicates that a sign should be used for both positive as well as negative numbers.\n",
    "'-' |\tindicates that a sign should be used only for negative numbers, which is the default behavior.\n",
    "space |\tindicates that a leading space should be used on positive numbers, and a minus sign on negative numbers."
   ]
  },
  {
   "cell_type": "markdown",
   "metadata": {},
   "source": [
    "## Operators"
   ]
  },
  {
   "cell_type": "markdown",
   "metadata": {},
   "source": [
    "Operators are used to perform operations on variables and values. They can be grouped in the following groups:\n",
    "\n",
    "   - Arithmetic operators\n",
    "   \n",
    "|Symbol | Operation | Usage|\n",
    "|:------|:-----|:------|\n",
    "|+ |\tAddition |\t     x + y|\t\n",
    "|- |\tSubtraction |\t x - y|\n",
    "|* |\tMultiplication | x * y|\n",
    "|/ |\tDivision |\t     x / y|\n",
    "|% |\tModulus |\t     x % y|\n",
    "|\\**| \tExponentiation | x ** y| \n",
    "|// |\tFloor division | x // y|\n",
    "  \n",
    "   - Assignment operators\n",
    "   \n",
    "Symbol | Usage | Same as\n",
    ":------|:-----|:--------\n",
    "= \t| x = 5 \t| x = 5 \t\n",
    "+= \t| x += 3 \t| x = x + 3 \t\n",
    "-= \t| x -= 3 \t| x = x - 3 \t\n",
    "*= \t| x *= 3 \t| x = x * 3 \t\n",
    "/= \t| x /= 3 \t| x = x / 3 \t\n",
    "%= \t| x %= 3 \t| x = x % 3 \t\n",
    "//= | x //= 3 \t| x = x // 3 \t\n",
    "\\**= | x \\**= 3 \t| x = x ** 3 \t\n",
    "&= \t| x &= 3 \t| x = x & 3 \t\n",
    "&#124;= \t| x &#124;= 3 \t| x = x &#124; 3 \t\n",
    "^= \t| x ^= 3 \t| x = x ^ 3 \t\n",
    ">>= | x >>= 3 \t| x = x >> 3 \t\n",
    "<<= | x <<= 3 \t| x = x << 3   \n",
    "\n",
    "   - Comparison operators\n",
    "\n",
    "Symbol | Name | Usage\n",
    ":------|:-----|:--------\n",
    "== \t| Equal \t\t\t\t\t| x == y \t\n",
    "!= \t| Not equal \t\t\t\t| x != y \t\n",
    "> \t| Greater than \t\t\t\t| x > y \t\n",
    "< \t| Less than \t\t\t\t| x < y \t\n",
    ">= \t| Greater than or equal to \t| x >= y \t\n",
    "<= \t| Less than or equal to \t| x <= y\n",
    "   \n",
    "   - Logical operators\n",
    "\n",
    "Symbol | Operation | Usage\n",
    ":------|:-----|:--------\n",
    "and  \t| Returns True if both statements are true \t\t\t\t\t| x < 5 and  x < 10 \t\n",
    "or \t\t| Returns True if one of the statements is true \t\t\t| x < 5 or x < 4 \t\n",
    "not \t| Reverse the result, returns False if the result is true \t| not(x < 5 and x < 10)\n",
    "\n",
    "   - Identity operators\n",
    "\n",
    "Symbol | Operation | Usage\n",
    ":------|:-----|:--------\n",
    "is  \t| Returns true if both variables are the same object \t\t| x is y \t\n",
    "is not \t| Returns true if both variables are not the same object \t| x is not y\n",
    "\n",
    "   - Membership operators\n",
    "   \n",
    "Symbol | Operation | Usage\n",
    ":------|:-----|:--------\n",
    "in  \t| Returns True if a sequence with the specified value is present in the object \t\t| x in y \t\n",
    "not in \t| Returns True if a sequence with the specified value is not present in the object \t| x not in y \n",
    "  \n",
    "   - Bitwise operators\n",
    "\n",
    "Symbol | Name | Operation\n",
    ":------|:-----|:--------\n",
    "&  \t| AND \t\t\t\t\t| Sets each bit to 1 if both bits are 1\n",
    "&#124; \t| OR \t\t\t\t\t| Sets each bit to 1 if one of two bits is 1\n",
    " ^ \t| XOR \t\t\t\t\t| Sets each bit to 1 if only one of two bits is 1\n",
    "~  \t| NOT \t\t\t\t\t| Inverts all the bits\n",
    "<< \t| Zero fill left shift \t| Shift left by pushing zeros in from the right and let the leftmost bits fall off\n",
    ">> \t| Signed right shift \t| Shift right by pushing copies of the leftmost bit in from the left, and let the rightmost bits fall off\n"
   ]
  },
  {
   "cell_type": "markdown",
   "metadata": {},
   "source": [
    "# Built-in data structures"
   ]
  },
  {
   "cell_type": "markdown",
   "metadata": {},
   "source": [
    "There are four collection data types in the Python programming language:\n",
    "\n",
    "  - **List** is a collection which is ordered and changeable. Allows duplicate members. It is written with square brackets `[ ]`. Differently from C-array it can contain data of different type."
   ]
  },
  {
   "cell_type": "code",
   "execution_count": 16,
   "metadata": {},
   "outputs": [
    {
     "name": "stdout",
     "output_type": "stream",
     "text": [
      "['apple', 5, 75.25]\n"
     ]
    }
   ],
   "source": [
    "my_list = [\"apple\",5,75.25]\n",
    "print(my_list)"
   ]
  },
  {
   "cell_type": "markdown",
   "metadata": {},
   "source": [
    "Method |\tDescription\n",
    "-------|---------------\n",
    "append() |\tAdds an element at the end of the list\n",
    "clear() | Removes all the elements from the list\n",
    "copy()\t| Returns a copy of the list\n",
    "count()\t| Returns the number of elements with the specified value\n",
    "extend() |\tAdd the elements of a list (or any iterable), to the end of the current list\n",
    "index()\t| Returns the index of the first element with the specified value\n",
    "insert() |\tAdds an element at the specified position\n",
    "pop() |\tRemoves the element at the specified position\n",
    "remove() | Removes the item with the specified value\n",
    "reverse() |\tReverses the order of the list\n",
    "sort() | Sorts the list"
   ]
  },
  {
   "cell_type": "markdown",
   "metadata": {},
   "source": [
    "- **Tuple** is a collection which is ordered and **unchangeable**. Allows duplicate members. It is written written with round brackets `( )`."
   ]
  },
  {
   "cell_type": "code",
   "execution_count": 17,
   "metadata": {},
   "outputs": [
    {
     "name": "stdout",
     "output_type": "stream",
     "text": [
      "('apple', 5, 75.25)\n"
     ]
    },
    {
     "ename": "TypeError",
     "evalue": "'tuple' object does not support item assignment",
     "output_type": "error",
     "traceback": [
      "\u001b[0;31m---------------------------------------------------------------------------\u001b[0m",
      "\u001b[0;31mTypeError\u001b[0m                                 Traceback (most recent call last)",
      "\u001b[0;32m<ipython-input-17-a4d12e5c8346>\u001b[0m in \u001b[0;36m<module>\u001b[0;34m\u001b[0m\n\u001b[1;32m      3\u001b[0m \u001b[0;34m\u001b[0m\u001b[0m\n\u001b[1;32m      4\u001b[0m \u001b[0;31m# try to assign a value to an element of the tuple\u001b[0m\u001b[0;34m\u001b[0m\u001b[0;34m\u001b[0m\u001b[0;34m\u001b[0m\u001b[0m\n\u001b[0;32m----> 5\u001b[0;31m \u001b[0mmy_Tuple\u001b[0m\u001b[0;34m[\u001b[0m\u001b[0;36m1\u001b[0m\u001b[0;34m]\u001b[0m \u001b[0;34m=\u001b[0m \u001b[0;36m7\u001b[0m\u001b[0;34m\u001b[0m\u001b[0;34m\u001b[0m\u001b[0m\n\u001b[0m",
      "\u001b[0;31mTypeError\u001b[0m: 'tuple' object does not support item assignment"
     ]
    }
   ],
   "source": [
    "my_Tuple = (\"apple\",5,75.25)\n",
    "print(my_Tuple)\n",
    "\n",
    "# try to assign a value to an element of the tuple\n",
    "my_Tuple[1] = 7"
   ]
  },
  {
   "cell_type": "markdown",
   "metadata": {},
   "source": [
    "Method  |\tDescription\n",
    "--------|--------------\n",
    "count() | Returns the number of times a specified value occurs in a tuple\n",
    "index()\t| Searches the tuple for a specified value and returns the position of where it was found"
   ]
  },
  {
   "cell_type": "markdown",
   "metadata": {},
   "source": [
    "- **Set** is a collection which is unordered and unindexed (i.e. you cannot access by referring to an index). No duplicate members. It is written with curly brackets `{ }`. You need specific methods to add and remove elements."
   ]
  },
  {
   "cell_type": "code",
   "execution_count": 18,
   "metadata": {},
   "outputs": [
    {
     "name": "stdout",
     "output_type": "stream",
     "text": [
      "{'apple', 75.25, 5}\n"
     ]
    }
   ],
   "source": [
    "my_set = {\"apple\",5,75.25}\n",
    "print(my_set)"
   ]
  },
  {
   "cell_type": "markdown",
   "metadata": {},
   "source": [
    "Method | \tDescription\n",
    "-------|---------------\n",
    "add() |\tAdds an element to the set\n",
    "clear() |\tRemoves all the elements from the set\n",
    "copy() |\tReturns a copy of the set\n",
    "difference() |\tReturns a set containing the difference between two or more sets\n",
    "difference_update() |\tRemoves the items in this set that are also included in another, specified set\n",
    "discard() |\tRemove the specified item\n",
    "intersection() |\tReturns a set, that is the intersection of two other sets\n",
    "intersection_update() |\tRemoves the items in this set that are not present in other, specified set(s)\n",
    "isdisjoint() |\tReturns whether two sets have a intersection or not\n",
    "issubset() |\tReturns whether another set contains this set or not\n",
    "issuperset() |\tReturns whether this set contains another set or not\n",
    "pop() |\tRemoves the specified element\n",
    "remove() |\tRemoves the specified element\n",
    "symmetric_difference() |\tReturns a set with the symmetric differences of two sets\n",
    "symmetric_difference_update() |\tinserts the symmetric differences from this set and another\n",
    "union()\t| Return a set containing the union of sets\n",
    "update() |\tUpdate the set with the union of this set and others"
   ]
  },
  {
   "cell_type": "markdown",
   "metadata": {},
   "source": [
    " - **Dictionary** is a collection which is unordered, changeable and indexed. No duplicate members. Dictionaries have keys and values and it is written with curly brackets `{ }`."
   ]
  },
  {
   "cell_type": "code",
   "execution_count": 19,
   "metadata": {},
   "outputs": [
    {
     "name": "stdout",
     "output_type": "stream",
     "text": [
      "name John\n",
      "surname Smith\n",
      "age 25\n",
      "\n",
      " John\n"
     ]
    }
   ],
   "source": [
    "my_dict = {\n",
    "  \"name\": \"John\",\n",
    "  \"surname\": \"Smith\",\n",
    "  \"age\": 25,\n",
    "}\n",
    "for x in my_dict:\n",
    "    print(x,my_dict[x]) #key, value\n",
    "    \n",
    "print(\"\\n\",my_dict[\"name\"]) #access value by key"
   ]
  },
  {
   "cell_type": "markdown",
   "metadata": {},
   "source": [
    "Method | \tDescription\n",
    "-------|-------------\n",
    "clear() |\tRemoves all the elements from the dictionary\n",
    "copy() |\tReturns a copy of the dictionary\n",
    "fromkeys() |\tReturns a dictionary with the specified keys and values\n",
    "get() |\tReturns the value of the specified key\n",
    "items() |\tReturns a list containing the a tuple for each key value pair\n",
    "keys() |\tReturns a list contianing the dictionary's keys\n",
    "pop() |\tRemoves the element with the specified key\n",
    "popitem() |\tRemoves the last inserted key-value pair\n",
    "setdefault() |\tReturns the value of the specified key. If the key does not exist: insert the key, with the specified value\n",
    "update() |\tUpdates the dictionary with the specified key-value pairs\n",
    "values() |\tReturns a list of all the values in the dictionary"
   ]
  },
  {
   "cell_type": "markdown",
   "metadata": {},
   "source": [
    "# Conditional statement and loops"
   ]
  },
  {
   "cell_type": "markdown",
   "metadata": {},
   "source": [
    "### If statement"
   ]
  },
  {
   "cell_type": "markdown",
   "metadata": {},
   "source": [
    "Logical operators can be used to control the flow of your programs, in particular through series of **if statement**. An **if statement** is written by using the `if` keyword."
   ]
  },
  {
   "cell_type": "code",
   "execution_count": 20,
   "metadata": {},
   "outputs": [
    {
     "name": "stdout",
     "output_type": "stream",
     "text": [
      "x > 1\n"
     ]
    }
   ],
   "source": [
    "x = 2\n",
    "if x > 1: # the colon (and the following indentation) defines which instructions will be excuted \n",
    "          # when the conditional expression evaluates True\n",
    "    print(\"x > 1\")"
   ]
  },
  {
   "cell_type": "markdown",
   "metadata": {},
   "source": [
    "You can handle more conditions with the `elif` (i.e. else if) and `else` keywords."
   ]
  },
  {
   "cell_type": "code",
   "execution_count": 21,
   "metadata": {},
   "outputs": [
    {
     "name": "stdout",
     "output_type": "stream",
     "text": [
      "x < 1\n"
     ]
    }
   ],
   "source": [
    "x = 0.5\n",
    "if x > 1:\n",
    "    print(\"x > 1\")\n",
    "elif x == 1:\n",
    "    print(\"x = 1\")\n",
    "else:\n",
    "    print(\"x < 1\")"
   ]
  },
  {
   "cell_type": "markdown",
   "metadata": {},
   "source": [
    "### Loops"
   ]
  },
  {
   "cell_type": "markdown",
   "metadata": {},
   "source": [
    "Python has two kind of **loops**, `for` and `while`. The former does not need an iterator index to set beforehand. Instead, the latter requires the relevant variables to be ready before the begining of the loop."
   ]
  },
  {
   "cell_type": "code",
   "execution_count": 22,
   "metadata": {},
   "outputs": [
    {
     "name": "stdout",
     "output_type": "stream",
     "text": [
      "banana\n",
      "5\n",
      "78.25\n",
      "\n",
      "\n",
      "0 banana\n",
      "1 5\n",
      "2 78.25\n",
      "0 banana\n",
      "1 5\n",
      "2 78.25\n"
     ]
    }
   ],
   "source": [
    "x = [\"banana\",5,78.25]\n",
    "for a in x:\n",
    "    print(a)\n",
    "print(\"\\n\") \n",
    "for i in range(len(x)):\n",
    "    print(i,x[i])\n",
    "    \n",
    "for i,a in enumerate(x):\n",
    "    print(i,a)"
   ]
  },
  {
   "cell_type": "code",
   "execution_count": 23,
   "metadata": {},
   "outputs": [
    {
     "name": "stdout",
     "output_type": "stream",
     "text": [
      "1\n",
      "2\n",
      "3\n"
     ]
    }
   ],
   "source": [
    "i = 1\n",
    "while i <= 3:\n",
    "  print(i)\n",
    "  i += 1"
   ]
  },
  {
   "cell_type": "markdown",
   "metadata": {},
   "source": [
    "### Joint use"
   ]
  },
  {
   "cell_type": "markdown",
   "metadata": {},
   "source": [
    "Logical conditions are frequently used in **loops**. Through if statement, if some condition verifies during the loop we can just perform some operation or maybe jump to the next iteration of the loop or even exit from it. The last two operation are activated by the `continue` and `break` keyword. (Note the indentation at every level)"
   ]
  },
  {
   "cell_type": "code",
   "execution_count": 24,
   "metadata": {},
   "outputs": [
    {
     "name": "stdout",
     "output_type": "stream",
     "text": [
      "0\n",
      "0\n",
      "1\n",
      "1\n",
      "2\n",
      "2\n",
      "3\n",
      "4\n"
     ]
    }
   ],
   "source": [
    "for i in range(5):\n",
    "    print(i)\n",
    "    if i > 2:\n",
    "        continue\n",
    "    print(i)"
   ]
  },
  {
   "cell_type": "code",
   "execution_count": 25,
   "metadata": {},
   "outputs": [
    {
     "name": "stdout",
     "output_type": "stream",
     "text": [
      "0\n",
      "0\n",
      "1\n",
      "1\n",
      "2\n",
      "2\n",
      "3\n"
     ]
    }
   ],
   "source": [
    "for i in range(5):\n",
    "    print(i)\n",
    "    if i > 2:\n",
    "        break\n",
    "    print(i)"
   ]
  },
  {
   "cell_type": "markdown",
   "metadata": {},
   "source": [
    "# Functions"
   ]
  },
  {
   "cell_type": "markdown",
   "metadata": {},
   "source": [
    "A function is a piece of code which only runs when it is called. You can pass data, known as parameters, into a function and it can return any data as a result. A function is defined through the `def` keyword followed by a semicolon `:`. The `return` keyword produces the output and ends the instruction block. \n",
    "\n",
    "REMINDER: everything defined inside a fuction remains inside the function! This means that a variable initialised inside the scope of the function is invisible to other parts of your program. If this variable has the same name of an already previously existing variable, the local one does not overwrite it, but the other becomes inaccessible, i.e. the local scope has an *\"higher priority\"* with respect to the global scope, but the namespaces remain separated. "
   ]
  },
  {
   "cell_type": "code",
   "execution_count": 26,
   "metadata": {},
   "outputs": [],
   "source": [
    "# define a function that evaluates the sum of two numbers\n",
    "def sum(x,y):\n",
    "    '''Compute the sum x+y.'''\n",
    "    \n",
    "    return x+y"
   ]
  },
  {
   "cell_type": "code",
   "execution_count": 27,
   "metadata": {},
   "outputs": [
    {
     "ename": "TypeError",
     "evalue": "can only concatenate str (not \"int\") to str",
     "output_type": "error",
     "traceback": [
      "\u001b[0;31m---------------------------------------------------------------------------\u001b[0m",
      "\u001b[0;31mTypeError\u001b[0m                                 Traceback (most recent call last)",
      "\u001b[0;32m<ipython-input-27-ce975abdd393>\u001b[0m in \u001b[0;36m<module>\u001b[0;34m\u001b[0m\n\u001b[1;32m      1\u001b[0m \u001b[0msum\u001b[0m\u001b[0;34m(\u001b[0m\u001b[0;36m1\u001b[0m\u001b[0;34m,\u001b[0m\u001b[0;36m2\u001b[0m\u001b[0;34m)\u001b[0m\u001b[0;34m\u001b[0m\u001b[0;34m\u001b[0m\u001b[0m\n\u001b[0;32m----> 2\u001b[0;31m \u001b[0msum\u001b[0m\u001b[0;34m(\u001b[0m\u001b[0;34m\"ciao\"\u001b[0m\u001b[0;34m,\u001b[0m\u001b[0;36m1\u001b[0m\u001b[0;34m)\u001b[0m\u001b[0;34m\u001b[0m\u001b[0;34m\u001b[0m\u001b[0m\n\u001b[0m",
      "\u001b[0;32m<ipython-input-26-59dc8cf0753b>\u001b[0m in \u001b[0;36msum\u001b[0;34m(x, y)\u001b[0m\n\u001b[1;32m      3\u001b[0m     \u001b[0;34m'''Compute the sum x+y.'''\u001b[0m\u001b[0;34m\u001b[0m\u001b[0;34m\u001b[0m\u001b[0m\n\u001b[1;32m      4\u001b[0m \u001b[0;34m\u001b[0m\u001b[0m\n\u001b[0;32m----> 5\u001b[0;31m     \u001b[0;32mreturn\u001b[0m \u001b[0mx\u001b[0m\u001b[0;34m+\u001b[0m\u001b[0my\u001b[0m\u001b[0;34m\u001b[0m\u001b[0;34m\u001b[0m\u001b[0m\n\u001b[0m",
      "\u001b[0;31mTypeError\u001b[0m: can only concatenate str (not \"int\") to str"
     ]
    }
   ],
   "source": [
    "sum(1,2)\n",
    "sum(\"ciao\",1)"
   ]
  },
  {
   "cell_type": "markdown",
   "metadata": {},
   "source": [
    "Here a more difficult example. The function quicksort takes a list (or array) as input parameter (`arr`) and returns a new list with the same elements but ordered in ascending fashion."
   ]
  },
  {
   "cell_type": "code",
   "execution_count": 28,
   "metadata": {},
   "outputs": [
    {
     "name": "stdout",
     "output_type": "stream",
     "text": [
      "[1, 1, 2, 3, 6, 8, 10]\n"
     ]
    }
   ],
   "source": [
    "# we define a function that order in ascending order an input list\n",
    "def quicksort(arr):\n",
    "    \"\"\"Order in ascending order an input list.\"\"\"\n",
    "    \n",
    "    if len(arr) <= 1: # if arr contains only one element the array is already ordered\n",
    "        return arr\n",
    "    \n",
    "    pivot = arr[len(arr) // 2]\n",
    "    left = [x for x in arr if x < pivot]\n",
    "    middle = [x for x in arr if x == pivot]\n",
    "    right = [x for x in arr if x > pivot]\n",
    "    \n",
    "    return quicksort(left) + middle + quicksort(right)\n",
    "\n",
    "print(quicksort([3,6,8,10,1,2,1]))"
   ]
  },
  {
   "cell_type": "markdown",
   "metadata": {},
   "source": [
    "Note how compact is the syntax `left = [x for x in arr if x < pivot]`. It means:\n",
    " - create a list and assign it the name `left` (`left` will be a list because we are using square brackets!)\n",
    " - the first `x` after the square parentheses means that each element in the list is obtained from the values of a variable called `x`. This could have been also another function involving `x`, such as `x**2`;\n",
    " - the statement `for x in arr` means that `x` will sequentially represent the values in `arr` (with a `for` loop with local variable `x`)\n",
    " - the final statement `if x < pivot` means that if the current element in `arr` is lower than `pivot`, then this element is added to `left`, otherwise it is discarded \n",
    " \n",
    "This notation is known as \"list comprehension\". Don't worry if you don't understand this notation right away, you will get used to it after more examples, and by trying it yourself!"
   ]
  },
  {
   "cell_type": "code",
   "execution_count": 29,
   "metadata": {
    "scrolled": true
   },
   "outputs": [
    {
     "name": "stdout",
     "output_type": "stream",
     "text": [
      "new_arr1 = [3, 1, 2, 1]\n",
      "new_arr2 = [3, 1, 2, 1]\n"
     ]
    }
   ],
   "source": [
    "y = [3,6,8,10,1,2,1] # test list\n",
    "test = 4 # test value\n",
    "\n",
    "# explicit form\n",
    "new_arr1 = [] #create an empty list\n",
    "for x in y: # scan y\n",
    "    if x < test: #test each element\n",
    "        new_arr1.append(x) # add element if is lower than test\n",
    "\n",
    "print(\"new_arr1 =\",new_arr1)\n",
    "\n",
    "# compact form\n",
    "new_arr2 = [a for a in y if a < test]\n",
    "print(\"new_arr2 =\",new_arr2)"
   ]
  },
  {
   "cell_type": "markdown",
   "metadata": {},
   "source": [
    "Finally, note how the algorithm proceeds. The function recursively calls itself in the `return` statement, until every element is placed in a list of length 1. Then all lists are concatenated with the `+` operator. "
   ]
  },
  {
   "cell_type": "markdown",
   "metadata": {},
   "source": [
    "## Exercise 1\n",
    "[15 min]\n",
    "\n",
    "Define a function that computes the n-th root of an integer number. Implement checks to handle even roots of negative numbers and assert that the root index is an integer. Give it a docstring! Then use it to compute the square roots of the sums of the first 5 odd numbers."
   ]
  },
  {
   "cell_type": "markdown",
   "metadata": {},
   "source": [
    "# Classes\n",
    "\n",
    "Within python, everything is ultimately a general type of class called `object`, to which also basic classes belong. Classes are defined in a way somewhat similar to C, and can contain a number of \"special\" members, whose names begin with a double underscore `__`, that enable some particular features. The two most commonly used such members are the `__init__` method, which is used to initialize a class once it is instantiated, and the `__call__` method, which is executed whenever the class is called as if it were a function. Here is an example:"
   ]
  },
  {
   "cell_type": "code",
   "execution_count": 34,
   "metadata": {},
   "outputs": [],
   "source": [
    "# define a simple class to contain information on participants to a course\n",
    "\n",
    "class Participant:\n",
    "    \"\"\"\n",
    "    Classes can be given a docstring. This class holds information about participants to a course.\n",
    "    \"\"\"\n",
    "    def __init__(self, course, name, university='UniMiB'): \n",
    "        \"\"\"\n",
    "        This method is automatically executed once the class is instantiated. \n",
    "        As for any other method, its first argument *must* be a pointer to\n",
    "        the class instance itself, which is usually called `self` (but it can\n",
    "        be given any name). This method also has two additional mandatory arguments\n",
    "        `course` and `name`, followed by a single optional keyword argument `university`,\n",
    "        whose default value is 'UniMiB'.\n",
    "        \"\"\"\n",
    "        \n",
    "        # create class members to hold the information passed upon initialization\n",
    "        self.course = course\n",
    "        self.name = name\n",
    "        self.uni = university\n",
    "        \n",
    "        # create an empty list to hold the participant's marks (plus the dates and topic of the examinations)\n",
    "        self.marks = []\n",
    "        self.mark_dates = []\n",
    "        self.mark_topics = []\n",
    "    \n",
    "    def assign_mark(self,mark,date,topic):\n",
    "        self.marks.append(mark)\n",
    "        self.mark_dates.append(date)\n",
    "        self.mark_topics.append(topic)\n",
    "    \n",
    "    def mark_mean(self):\n",
    "        \"\"\"\n",
    "        This method returns the arithmetic mean of the marks obtained by the particiant so far.\n",
    "        \"\"\"\n",
    "        \n",
    "        mark_sum = 0\n",
    "        \n",
    "        for m in self.marks:\n",
    "            mark_sum += m\n",
    "        \n",
    "        return mark_sum/len(self.marks)\n",
    "        \n",
    "    def show_marks(self):\n",
    "        \n",
    "        for i in range(len(self.marks)):\n",
    "            print('Date: {0}, topic: {1},  mark: {2}'.format(self.mark_dates[i],self.mark_topics[i],self.marks[i]))        \n",
    "    \n",
    "    def __call__(self):\n",
    "        \"\"\"\n",
    "        This method is executed if the class instance is called as if it were a function.\n",
    "        \"\"\"\n",
    "        \n",
    "        print('Name: {}'.format(self.name))\n",
    "        print('University: {}'.format(self.uni))\n",
    "        print('Enrolled in course: {}'.format(self.course))\n",
    "        print('Mean of the marks obtained so far: {}'.format(self.mark_mean()))\n",
    "\n",
    "\n",
    "    \n",
    "    \n",
    "        "
   ]
  },
  {
   "cell_type": "markdown",
   "metadata": {},
   "source": [
    "And here is a demonstration of the usage of such class:"
   ]
  },
  {
   "cell_type": "code",
   "execution_count": 35,
   "metadata": {},
   "outputs": [
    {
     "name": "stdout",
     "output_type": "stream",
     "text": [
      "Date: 2021-02-22, topic: Performing 3D integrals,  mark: 29.0\n",
      "Date: 2021-02-24, topic: Monte-Carlo methods,  mark: 30.0\n"
     ]
    }
   ],
   "source": [
    "# instantiate class for two participants\n",
    "Tizio = Participant('Introduction to Python','Tizio') # class instantiation & initialization\n",
    "Caio = Participant('Introduction to Python','Caio',university='UniMi')\n",
    "\n",
    "# assign marks after two examinations\n",
    "Tizio.assign_mark(29.,'2021-02-22','Performing 3D integrals')\n",
    "Tizio.assign_mark(30.,'2021-02-24','Monte-Carlo methods')\n",
    "\n",
    "Caio.assign_mark(21.,'2021-02-22','Performing 3D integrals')\n",
    "Caio.assign_mark(29.,'2021-02-24','Monte-Carlo methods')\n",
    "\n",
    "# show Tizio's marks\n",
    "Tizio.show_marks()"
   ]
  },
  {
   "cell_type": "code",
   "execution_count": 36,
   "metadata": {},
   "outputs": [
    {
     "name": "stdout",
     "output_type": "stream",
     "text": [
      "Name: Caio\n",
      "University: UniMi\n",
      "Enrolled in course: Introduction to Python\n",
      "Mean of the marks obtained so far: 25.0\n"
     ]
    }
   ],
   "source": [
    "# call the Caio instance\n",
    "Caio()"
   ]
  },
  {
   "cell_type": "markdown",
   "metadata": {},
   "source": [
    "# Getting help\n",
    "\n",
    "The most straightforward way to get help on python objects (such as classes and functions) is through the interactive python shell (or ipython, or jupyter notebook). The builtin function `help` can be used to print the docstring of any object:"
   ]
  },
  {
   "cell_type": "code",
   "execution_count": 30,
   "metadata": {},
   "outputs": [
    {
     "name": "stdout",
     "output_type": "stream",
     "text": [
      "Help on built-in function print in module builtins:\n",
      "\n",
      "print(...)\n",
      "    print(value, ..., sep=' ', end='\\n', file=sys.stdout, flush=False)\n",
      "    \n",
      "    Prints the values to a stream, or to sys.stdout by default.\n",
      "    Optional keyword arguments:\n",
      "    file:  a file-like object (stream); defaults to the current sys.stdout.\n",
      "    sep:   string inserted between values, default a space.\n",
      "    end:   string appended after the last value, default a newline.\n",
      "    flush: whether to forcibly flush the stream.\n",
      "\n"
     ]
    }
   ],
   "source": [
    "help(print)"
   ]
  },
  {
   "cell_type": "code",
   "execution_count": 31,
   "metadata": {},
   "outputs": [
    {
     "name": "stdout",
     "output_type": "stream",
     "text": [
      "Help on list object:\n",
      "\n",
      "class list(object)\n",
      " |  list(iterable=(), /)\n",
      " |  \n",
      " |  Built-in mutable sequence.\n",
      " |  \n",
      " |  If no argument is given, the constructor creates a new empty list.\n",
      " |  The argument must be an iterable if specified.\n",
      " |  \n",
      " |  Methods defined here:\n",
      " |  \n",
      " |  __add__(self, value, /)\n",
      " |      Return self+value.\n",
      " |  \n",
      " |  __contains__(self, key, /)\n",
      " |      Return key in self.\n",
      " |  \n",
      " |  __delitem__(self, key, /)\n",
      " |      Delete self[key].\n",
      " |  \n",
      " |  __eq__(self, value, /)\n",
      " |      Return self==value.\n",
      " |  \n",
      " |  __ge__(self, value, /)\n",
      " |      Return self>=value.\n",
      " |  \n",
      " |  __getattribute__(self, name, /)\n",
      " |      Return getattr(self, name).\n",
      " |  \n",
      " |  __getitem__(...)\n",
      " |      x.__getitem__(y) <==> x[y]\n",
      " |  \n",
      " |  __gt__(self, value, /)\n",
      " |      Return self>value.\n",
      " |  \n",
      " |  __iadd__(self, value, /)\n",
      " |      Implement self+=value.\n",
      " |  \n",
      " |  __imul__(self, value, /)\n",
      " |      Implement self*=value.\n",
      " |  \n",
      " |  __init__(self, /, *args, **kwargs)\n",
      " |      Initialize self.  See help(type(self)) for accurate signature.\n",
      " |  \n",
      " |  __iter__(self, /)\n",
      " |      Implement iter(self).\n",
      " |  \n",
      " |  __le__(self, value, /)\n",
      " |      Return self<=value.\n",
      " |  \n",
      " |  __len__(self, /)\n",
      " |      Return len(self).\n",
      " |  \n",
      " |  __lt__(self, value, /)\n",
      " |      Return self<value.\n",
      " |  \n",
      " |  __mul__(self, value, /)\n",
      " |      Return self*value.\n",
      " |  \n",
      " |  __ne__(self, value, /)\n",
      " |      Return self!=value.\n",
      " |  \n",
      " |  __repr__(self, /)\n",
      " |      Return repr(self).\n",
      " |  \n",
      " |  __reversed__(self, /)\n",
      " |      Return a reverse iterator over the list.\n",
      " |  \n",
      " |  __rmul__(self, value, /)\n",
      " |      Return value*self.\n",
      " |  \n",
      " |  __setitem__(self, key, value, /)\n",
      " |      Set self[key] to value.\n",
      " |  \n",
      " |  __sizeof__(self, /)\n",
      " |      Return the size of the list in memory, in bytes.\n",
      " |  \n",
      " |  append(self, object, /)\n",
      " |      Append object to the end of the list.\n",
      " |  \n",
      " |  clear(self, /)\n",
      " |      Remove all items from list.\n",
      " |  \n",
      " |  copy(self, /)\n",
      " |      Return a shallow copy of the list.\n",
      " |  \n",
      " |  count(self, value, /)\n",
      " |      Return number of occurrences of value.\n",
      " |  \n",
      " |  extend(self, iterable, /)\n",
      " |      Extend list by appending elements from the iterable.\n",
      " |  \n",
      " |  index(self, value, start=0, stop=9223372036854775807, /)\n",
      " |      Return first index of value.\n",
      " |      \n",
      " |      Raises ValueError if the value is not present.\n",
      " |  \n",
      " |  insert(self, index, object, /)\n",
      " |      Insert object before index.\n",
      " |  \n",
      " |  pop(self, index=-1, /)\n",
      " |      Remove and return item at index (default last).\n",
      " |      \n",
      " |      Raises IndexError if list is empty or index is out of range.\n",
      " |  \n",
      " |  remove(self, value, /)\n",
      " |      Remove first occurrence of value.\n",
      " |      \n",
      " |      Raises ValueError if the value is not present.\n",
      " |  \n",
      " |  reverse(self, /)\n",
      " |      Reverse *IN PLACE*.\n",
      " |  \n",
      " |  sort(self, /, *, key=None, reverse=False)\n",
      " |      Sort the list in ascending order and return None.\n",
      " |      \n",
      " |      The sort is in-place (i.e. the list itself is modified) and stable (i.e. the\n",
      " |      order of two equal elements is maintained).\n",
      " |      \n",
      " |      If a key function is given, apply it once to each list item and sort them,\n",
      " |      ascending or descending, according to their function values.\n",
      " |      \n",
      " |      The reverse flag can be set to sort in descending order.\n",
      " |  \n",
      " |  ----------------------------------------------------------------------\n",
      " |  Static methods defined here:\n",
      " |  \n",
      " |  __new__(*args, **kwargs) from builtins.type\n",
      " |      Create and return a new object.  See help(type) for accurate signature.\n",
      " |  \n",
      " |  ----------------------------------------------------------------------\n",
      " |  Data and other attributes defined here:\n",
      " |  \n",
      " |  __hash__ = None\n",
      "\n"
     ]
    }
   ],
   "source": [
    "help(['a'])"
   ]
  },
  {
   "cell_type": "code",
   "execution_count": 32,
   "metadata": {},
   "outputs": [
    {
     "name": "stdout",
     "output_type": "stream",
     "text": [
      "Help on function quicksort in module __main__:\n",
      "\n",
      "quicksort(arr)\n",
      "    Order in ascending order an input list.\n",
      "\n"
     ]
    }
   ],
   "source": [
    "help(quicksort)"
   ]
  },
  {
   "cell_type": "markdown",
   "metadata": {},
   "source": [
    "In some cases, as the one above, the docstring will be only poorly informative. In these cases, one may get a better understanding of the object by using the function `getsource` in the built-in `inspect` module:"
   ]
  },
  {
   "cell_type": "code",
   "execution_count": 33,
   "metadata": {},
   "outputs": [
    {
     "name": "stdout",
     "output_type": "stream",
     "text": [
      "def quicksort(arr):\n",
      "    \"\"\"Order in ascending order an input list.\"\"\"\n",
      "    \n",
      "    if len(arr) <= 1: # if arr contains only one element the array is already ordered\n",
      "        return arr\n",
      "    \n",
      "    pivot = arr[len(arr) // 2]\n",
      "    left = [x for x in arr if x < pivot]\n",
      "    middle = [x for x in arr if x == pivot]\n",
      "    right = [x for x in arr if x > pivot]\n",
      "    \n",
      "    return quicksort(left) + middle + quicksort(right)\n",
      "\n"
     ]
    }
   ],
   "source": [
    "import inspect\n",
    "\n",
    "src = inspect.getsource(quicksort)\n",
    "\n",
    "print(src)"
   ]
  },
  {
   "cell_type": "markdown",
   "metadata": {},
   "source": [
    "This prints out the source code of the quicksort function, which allows one to figure out in greater detail how it works and what the inputs and outputs are. Within `ipython` or `jupyter notebook`, writing `object?` will give the same result as `help(object)`, while writing `object??` will be equivalent to using `inspect.getsource(object)`."
   ]
  },
  {
   "cell_type": "markdown",
   "metadata": {},
   "source": [
    "### Inspecting the structure of a class\n",
    "\n",
    "In addition to figuring out how functions and other objects work, one may want to understand the structure of an object, in order to find out, for example, the members of a given class. For that purpose, the `getmembers` function in the `inspect` module can be of great help:"
   ]
  },
  {
   "cell_type": "code",
   "execution_count": 37,
   "metadata": {},
   "outputs": [
    {
     "data": {
      "text/plain": [
       "[('__call__', <function __main__.Participant.__call__(self)>),\n",
       " ('__class__', type),\n",
       " ('__delattr__', <slot wrapper '__delattr__' of 'object' objects>),\n",
       " ('__dict__',\n",
       "  mappingproxy({'__module__': '__main__',\n",
       "                '__doc__': '\\n    Classes can be given a docstring. This class holds information about participants to a course.\\n    ',\n",
       "                '__init__': <function __main__.Participant.__init__(self, course, name, university='UniMiB')>,\n",
       "                'assign_mark': <function __main__.Participant.assign_mark(self, mark, date, topic)>,\n",
       "                'mark_mean': <function __main__.Participant.mark_mean(self)>,\n",
       "                'show_marks': <function __main__.Participant.show_marks(self)>,\n",
       "                '__call__': <function __main__.Participant.__call__(self)>,\n",
       "                '__dict__': <attribute '__dict__' of 'Participant' objects>,\n",
       "                '__weakref__': <attribute '__weakref__' of 'Participant' objects>})),\n",
       " ('__dir__', <method '__dir__' of 'object' objects>),\n",
       " ('__doc__',\n",
       "  '\\n    Classes can be given a docstring. This class holds information about participants to a course.\\n    '),\n",
       " ('__eq__', <slot wrapper '__eq__' of 'object' objects>),\n",
       " ('__format__', <method '__format__' of 'object' objects>),\n",
       " ('__ge__', <slot wrapper '__ge__' of 'object' objects>),\n",
       " ('__getattribute__', <slot wrapper '__getattribute__' of 'object' objects>),\n",
       " ('__gt__', <slot wrapper '__gt__' of 'object' objects>),\n",
       " ('__hash__', <slot wrapper '__hash__' of 'object' objects>),\n",
       " ('__init__',\n",
       "  <function __main__.Participant.__init__(self, course, name, university='UniMiB')>),\n",
       " ('__init_subclass__', <function Participant.__init_subclass__>),\n",
       " ('__le__', <slot wrapper '__le__' of 'object' objects>),\n",
       " ('__lt__', <slot wrapper '__lt__' of 'object' objects>),\n",
       " ('__module__', '__main__'),\n",
       " ('__ne__', <slot wrapper '__ne__' of 'object' objects>),\n",
       " ('__new__', <function object.__new__(*args, **kwargs)>),\n",
       " ('__reduce__', <method '__reduce__' of 'object' objects>),\n",
       " ('__reduce_ex__', <method '__reduce_ex__' of 'object' objects>),\n",
       " ('__repr__', <slot wrapper '__repr__' of 'object' objects>),\n",
       " ('__setattr__', <slot wrapper '__setattr__' of 'object' objects>),\n",
       " ('__sizeof__', <method '__sizeof__' of 'object' objects>),\n",
       " ('__str__', <slot wrapper '__str__' of 'object' objects>),\n",
       " ('__subclasshook__', <function Participant.__subclasshook__>),\n",
       " ('__weakref__', <attribute '__weakref__' of 'Participant' objects>),\n",
       " ('assign_mark',\n",
       "  <function __main__.Participant.assign_mark(self, mark, date, topic)>),\n",
       " ('mark_mean', <function __main__.Participant.mark_mean(self)>),\n",
       " ('show_marks', <function __main__.Participant.show_marks(self)>)]"
      ]
     },
     "execution_count": 37,
     "metadata": {},
     "output_type": "execute_result"
    }
   ],
   "source": [
    "inspect.getmembers(Participant)"
   ]
  },
  {
   "cell_type": "markdown",
   "metadata": {},
   "source": [
    "The information given by the getmembers function could be overwhelming: one may want to narrow it down to a specific type of member, for instance, only see members that are functions. This can be obtained by uign the additional keyword parameter `predicate` of the getmembers function: only members on which the predicate returns `True` are shown. Useful predefined predicates are also contained in the `inspect` module, such as `inspect.isfunction`. Here is an example of how to use them:"
   ]
  },
  {
   "cell_type": "code",
   "execution_count": 38,
   "metadata": {},
   "outputs": [
    {
     "data": {
      "text/plain": [
       "[('__call__', <function __main__.Participant.__call__(self)>),\n",
       " ('__init__',\n",
       "  <function __main__.Participant.__init__(self, course, name, university='UniMiB')>),\n",
       " ('assign_mark',\n",
       "  <function __main__.Participant.assign_mark(self, mark, date, topic)>),\n",
       " ('mark_mean', <function __main__.Participant.mark_mean(self)>),\n",
       " ('show_marks', <function __main__.Participant.show_marks(self)>)]"
      ]
     },
     "execution_count": 38,
     "metadata": {},
     "output_type": "execute_result"
    }
   ],
   "source": [
    "inspect.getmembers(Participant,predicate=inspect.isfunction)"
   ]
  },
  {
   "cell_type": "markdown",
   "metadata": {},
   "source": [
    "This results in a list of only those members of the `Participant` class that are functions."
   ]
  },
  {
   "cell_type": "markdown",
   "metadata": {},
   "source": [
    "## Exercise 2\n",
    "\n",
    "2.1. Define an `Intp` class that can be used to interpolate linearly between to points (x0,y0) and (x1,y1). The points are given upon initialization, and the interpolation must be accessible through the `__call__` method. All methods must have docstrings.\n",
    "\n",
    "2.2. Print all members of the `Intp` class whose type is `float`."
   ]
  },
  {
   "cell_type": "code",
   "execution_count": null,
   "metadata": {},
   "outputs": [],
   "source": []
  }
 ],
 "metadata": {
  "kernelspec": {
   "display_name": "Python 3",
   "language": "python",
   "name": "python3"
  },
  "language_info": {
   "codemirror_mode": {
    "name": "ipython",
    "version": 3
   },
   "file_extension": ".py",
   "mimetype": "text/x-python",
   "name": "python",
   "nbconvert_exporter": "python",
   "pygments_lexer": "ipython3",
   "version": "3.8.10"
  }
 },
 "nbformat": 4,
 "nbformat_minor": 2
}
