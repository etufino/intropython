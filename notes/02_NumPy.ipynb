{
 "cells": [
  {
   "cell_type": "markdown",
   "metadata": {},
   "source": [
    "# NumPy"
   ]
  },
  {
   "cell_type": "markdown",
   "metadata": {},
   "source": [
    "Numpy (http://www.numpy.org/) is one of the most useful Python packages and it represents one of the core libraries for scientific computing in Python. It provides a high-performance multidimensional array object and tools for working with it. Inside a Python script, everything starts with an import statement:"
   ]
  },
  {
   "cell_type": "code",
   "execution_count": 1,
   "metadata": {},
   "outputs": [],
   "source": [
    "import numpy as np # everything inside numpy now can be invoked as np.something"
   ]
  },
  {
   "cell_type": "markdown",
   "metadata": {},
   "source": [
    "## NumPy Arrays"
   ]
  },
  {
   "cell_type": "markdown",
   "metadata": {},
   "source": [
    "A numpy array is a grid of values. Differently from Python lists, values must to be all of the same type. The number of dimensions is the rank of the array, while the shape of an array is a tuple of integers giving the size of the array along each dimension."
   ]
  },
  {
   "cell_type": "markdown",
   "metadata": {},
   "source": [
    "### Array creation"
   ]
  },
  {
   "cell_type": "markdown",
   "metadata": {},
   "source": [
    "We can initialize numpy arrays from nested Python lists, and access elements using square brackets `[ ]`:"
   ]
  },
  {
   "cell_type": "code",
   "execution_count": 2,
   "metadata": {},
   "outputs": [
    {
     "name": "stdout",
     "output_type": "stream",
     "text": [
      "<class 'numpy.ndarray'>\n",
      "(3,)\n",
      "(2, 3)\n",
      "1 2 3\n",
      "[5 2 3]\n",
      "\n",
      "\n",
      "(2, 3)\n",
      "1 2 4\n",
      "5\n"
     ]
    }
   ],
   "source": [
    "a = np.array([1, 2, 3])   # Create a rank 1 array\n",
    "b = np.array([[1, 2, 3],[4, 5, 6]])   # Create a rank 2 array\n",
    "print(type(a))            # Prints \"<class 'numpy.ndarray'>\"\n",
    "print(a.shape)            # Prints a Tuple (note round parenthesis) with one element, the length of the array\n",
    "print(b.shape)            # Prints a Tuple (note round parenthesis) with one element, the length of the array\n",
    "print(a[0], a[1], a[2])   \n",
    "a[0] = 5                  # Change an element of the array\n",
    "print(a)\n",
    "\n",
    "print(\"\\n\")\n",
    "b = np.array([[1,2,3],[4,5,6]])    # Create a rank 2 array\n",
    "print(b.shape)                     # Prints a Tuple with two elements, the length along each axis\n",
    "print(b[0, 0], b[0, 1], b[1, 0])\n",
    "print(b[1,1])"
   ]
  },
  {
   "cell_type": "markdown",
   "metadata": {},
   "source": [
    "Indexing can also be achieved with single `[ ]` for each dimension:"
   ]
  },
  {
   "cell_type": "code",
   "execution_count": 3,
   "metadata": {},
   "outputs": [
    {
     "name": "stdout",
     "output_type": "stream",
     "text": [
      "1 2 4\n"
     ]
    }
   ],
   "source": [
    "print(b[0][0], b[0][1], b[1][0])"
   ]
  },
  {
   "cell_type": "markdown",
   "metadata": {},
   "source": [
    "NumPy has many functions for array creation (note the brackets used as argument of function call, indexing uses Tuples or Lists!). See here for full details https://docs.scipy.org/doc/numpy-1.15.1/reference/routines.array-creation.html"
   ]
  },
  {
   "cell_type": "code",
   "execution_count": 4,
   "metadata": {},
   "outputs": [
    {
     "name": "stdout",
     "output_type": "stream",
     "text": [
      "[[0. 0.]\n",
      " [0. 0.]] \n",
      "\n",
      "[1. 1.] \n",
      "\n",
      "[[7 7]\n",
      " [7 7]] \n",
      "\n",
      "[[1. 0.]\n",
      " [0. 1.]] \n",
      "\n",
      "[3.  3.5 4.  4.5] \n",
      "\n",
      "[3.  3.4 3.8 4.2 4.6 5. ] \n",
      "\n",
      "[   100.   1000.  10000. 100000.] \n",
      "\n",
      "[  9  27  81 243]\n",
      "[   100.   1000.  10000. 100000.]\n"
     ]
    }
   ],
   "source": [
    "a = np.zeros((2,2))   # Create an array of all zeros\n",
    "print(a,\"\\n\")              \n",
    "\n",
    "b = np.ones(2)    # Create an array of all ones\n",
    "print(b,\"\\n\")              \n",
    "\n",
    "c = np.full([2,2], 7)  # Create an array filled with the given value\n",
    "print(c,\"\\n\")               \n",
    "\n",
    "d = np.eye(2)         # Create a 2x2 identity matrix\n",
    "print(d,\"\\n\")\n",
    "\n",
    "e = np.arange(3,5,0.5) # Create an array containing numbers between 3 and 5, separated by 0.5\n",
    "print(e,\"\\n\")\n",
    "\n",
    "f = np.linspace(3,5,6) # Create an array containing 6 linearly spaced numbers between 3 and 5\n",
    "print(f,\"\\n\")\n",
    "\n",
    "g = np.logspace(2,5,4) # Create an array containing 4 log-spaced numbers between 10**2 and 10**5\n",
    "print(g,\"\\n\")\n",
    "\n",
    "h = 3**np.arange(2,6,1)\n",
    "print(h)\n",
    "\n",
    "i = 10**np.linspace(2,5,4)\n",
    "print(i)"
   ]
  },
  {
   "cell_type": "markdown",
   "metadata": {},
   "source": [
    "### Array indexing: slicing"
   ]
  },
  {
   "cell_type": "markdown",
   "metadata": {},
   "source": [
    "Slicing is a quick method to extract parts of an array. For multidimensional objects, you must specify a slice for each dimension of the array. Slices are specified by the starting index (included), final index (not included) and increment step, i.e. `a[i:j:step]`, all being optional."
   ]
  },
  {
   "cell_type": "code",
   "execution_count": 5,
   "metadata": {},
   "outputs": [
    {
     "name": "stdout",
     "output_type": "stream",
     "text": [
      "tha shape of a: (3, 4)\n",
      "[[ 1  2  3  4]\n",
      " [ 5  6  7  8]\n",
      " [ 9 10 11 12]]\n",
      "[[2 3]\n",
      " [6 7]] \n",
      "\n"
     ]
    }
   ],
   "source": [
    "a = np.array([[1,2,3,4], [5,6,7,8], [9,10,11,12]])\n",
    "print(\"tha shape of a:\",a.shape)\n",
    "# Use slicing to pull out the subarray consisting of the first 2 rows\n",
    "# and columns 1 and 2; b is the following array of shape (2, 2):\n",
    "print(a)\n",
    "b = a[:2, 1:3]\n",
    "print(b,\"\\n\")"
   ]
  },
  {
   "cell_type": "markdown",
   "metadata": {},
   "source": [
    "The `ravel()` method can be used to flatten an array (turn it one-dimensional)"
   ]
  },
  {
   "cell_type": "code",
   "execution_count": 6,
   "metadata": {},
   "outputs": [
    {
     "name": "stdout",
     "output_type": "stream",
     "text": [
      "[ 1  2  3  4  5  6  7  8  9 10 11 12]\n"
     ]
    }
   ],
   "source": [
    "a_flat = a.ravel()\n",
    "print(a_flat)"
   ]
  },
  {
   "cell_type": "markdown",
   "metadata": {},
   "source": [
    "Negative numbers can be used to access elements backwards, starting from the end of the array. For example, `a_flat[-1]` is the last element of `a_flat`:"
   ]
  },
  {
   "cell_type": "code",
   "execution_count": 7,
   "metadata": {},
   "outputs": [
    {
     "name": "stdout",
     "output_type": "stream",
     "text": [
      "12\n"
     ]
    }
   ],
   "source": [
    "print(a_flat[-1])"
   ]
  },
  {
   "cell_type": "markdown",
   "metadata": {},
   "source": [
    "A negative step can be used to reverse the array:"
   ]
  },
  {
   "cell_type": "code",
   "execution_count": 8,
   "metadata": {},
   "outputs": [
    {
     "name": "stdout",
     "output_type": "stream",
     "text": [
      "[12 11 10  9  8  7  6  5  4  3  2  1]\n",
      "[3 2]\n",
      "[0 0 1]\n"
     ]
    }
   ],
   "source": [
    "a_reverse = a_flat[::-1]\n",
    "print(a_reverse)\n",
    "c = a_reverse[-3:]\n",
    "b = np.copy(a_reverse[-3:-1])\n",
    "a_reverse[-3:-1]=0\n",
    "#b = 0\n",
    "print(b)\n",
    "print(c)"
   ]
  },
  {
   "cell_type": "markdown",
   "metadata": {},
   "source": [
    "**REMINDER: A slice of an array (or simply the \"whole\" slice that is obtained by assigning an array to a new variable name) is a view into the same data, so modifying it will modify the original array**:"
   ]
  },
  {
   "cell_type": "code",
   "execution_count": 9,
   "metadata": {},
   "outputs": [
    {
     "name": "stdout",
     "output_type": "stream",
     "text": [
      "xx = [1 2]\n",
      "yy = [1 2]\n",
      "\n",
      "xx = [3 2]\n",
      "yy = [3 2]\n"
     ]
    }
   ],
   "source": [
    "xx = np.array([1,2]) # First array\n",
    "print(\"xx =\",xx) \n",
    "yy = xx              # Slice, in this case a full slice, i.e. equality\n",
    "print(\"yy =\",yy)\n",
    "xx[0] = 3            # First array is modified, also yy is modified\n",
    "\n",
    "print(\"\\nxx =\",xx)\n",
    "print(\"yy =\",yy) "
   ]
  },
  {
   "cell_type": "markdown",
   "metadata": {},
   "source": [
    "If you want to avoid this behaviour you need to create a new numpy array with the slice of the previos array: "
   ]
  },
  {
   "cell_type": "code",
   "execution_count": 10,
   "metadata": {},
   "outputs": [
    {
     "name": "stdout",
     "output_type": "stream",
     "text": [
      "xx = [1 2]\n",
      "yy = [1 2]\n",
      "\n",
      "xx = [3 2]\n",
      "yy = [1 2]\n"
     ]
    }
   ],
   "source": [
    "xx = np.array([1,2])\n",
    "print(\"xx =\",xx)\n",
    "yy = np.copy(xx)\n",
    "print(\"yy =\",yy)\n",
    "xx[0] = 3\n",
    "\n",
    "print(\"\\nxx =\",xx)\n",
    "print(\"yy =\",yy) "
   ]
  },
  {
   "cell_type": "markdown",
   "metadata": {},
   "source": [
    "The same holds for the `ravel` function: use `flatten` instead of `ravel` to create a new copy of the array."
   ]
  },
  {
   "cell_type": "markdown",
   "metadata": {},
   "source": [
    "### Array indexing: boolean"
   ]
  },
  {
   "cell_type": "code",
   "execution_count": 11,
   "metadata": {},
   "outputs": [
    {
     "name": "stdout",
     "output_type": "stream",
     "text": [
      "[[1 2]\n",
      " [3 4]\n",
      " [5 6]]\n",
      "(3, 2)\n",
      "[[False  True]\n",
      " [ True  True]\n",
      " [ True  True]] \n",
      "\n",
      "[[ True  True]\n",
      " [ True  True]\n",
      " [False False]] \n",
      "\n"
     ]
    }
   ],
   "source": [
    "a = np.array([[1,2], [3, 4], [5, 6]])\n",
    "print(a)\n",
    "print(a.shape)\n",
    "\n",
    "bool_idx = (a >= 2)   # Find the elements of a that are bigger than 2;\n",
    "                     # this returns a numpy array of Booleans of the same\n",
    "                     # shape as a, where each slot of bool_idx tells\n",
    "                     # whether that element of a is > 2.\n",
    "\n",
    "bool_idx2 = (a < 5)\n",
    "            \n",
    "print(bool_idx,\"\\n\")\n",
    "print(bool_idx2,\"\\n\")"
   ]
  },
  {
   "cell_type": "code",
   "execution_count": 12,
   "metadata": {
    "scrolled": true
   },
   "outputs": [
    {
     "name": "stdout",
     "output_type": "stream",
     "text": [
      "[2 3 4 5 6] \n",
      "\n",
      "[2 3 4 5 6] \n",
      "\n",
      "[2 3 4]\n",
      "[2 3 4]\n"
     ]
    }
   ],
   "source": [
    "# We use boolean array indexing to construct a rank 1 array\n",
    "# consisting of the elements of a corresponding to the True values\n",
    "# of bool_idx\n",
    "print(a[bool_idx],\"\\n\")  \n",
    "\n",
    "# We can do all of the above in a single concise statement:\n",
    "print(a[a >= 2],\"\\n\")\n",
    "\n",
    "print(a[bool_idx & bool_idx2])\n",
    "print(a[(a >=2) & (a < 5)])"
   ]
  },
  {
   "cell_type": "markdown",
   "metadata": {},
   "source": [
    "## Exercise 3: slicing\n",
    "[10 min]\n",
    "\n",
    "Create an array containing the first 10 even numbers. Then:\n",
    "- print all those which are greater than 5, using slicing;\n",
    "- add 1 to all the elements that are smaller than 5, and print the result in reverse order;\n",
    "- create a new array which contains only the odd entries of the above array, and print it;"
   ]
  },
  {
   "cell_type": "markdown",
   "metadata": {},
   "source": [
    "## Array math"
   ]
  },
  {
   "cell_type": "markdown",
   "metadata": {},
   "source": [
    "Basic mathematical functions operate elementwise on arrays, i.e. operate on each element separately (**element-wise operation**). We can perform scalar multiplication:"
   ]
  },
  {
   "cell_type": "code",
   "execution_count": 13,
   "metadata": {},
   "outputs": [
    {
     "name": "stdout",
     "output_type": "stream",
     "text": [
      "[ 3.5  7.  10.5]\n"
     ]
    }
   ],
   "source": [
    "y = np.array([1,2,3])\n",
    "alpha = 3.5\n",
    "\n",
    "print(alpha*y)"
   ]
  },
  {
   "cell_type": "markdown",
   "metadata": {},
   "source": [
    "or apply functions to arrays:"
   ]
  },
  {
   "cell_type": "code",
   "execution_count": 14,
   "metadata": {},
   "outputs": [
    {
     "name": "stdout",
     "output_type": "stream",
     "text": [
      "[1. 2. 3. 5.]\n",
      "[  1.   8.  27. 125.]\n"
     ]
    }
   ],
   "source": [
    "x2 = np.array([1,4,9,25])\n",
    "x = np.sqrt(x2) # Compute the square root\n",
    "x3 = x**3       # Compute the cube\n",
    "print(x)\n",
    "print(x3)"
   ]
  },
  {
   "cell_type": "markdown",
   "metadata": {},
   "source": [
    "Mathematical functions are available both as operator and as functions in the numpy module:"
   ]
  },
  {
   "cell_type": "code",
   "execution_count": 15,
   "metadata": {},
   "outputs": [
    {
     "name": "stdout",
     "output_type": "stream",
     "text": [
      "[ 2.  6. 12. 30.]\n",
      "[ 2.  6. 12. 30.]\n"
     ]
    }
   ],
   "source": [
    "print(x + x2)\n",
    "print(np.add(x, x2))"
   ]
  },
  {
   "cell_type": "code",
   "execution_count": 16,
   "metadata": {},
   "outputs": [
    {
     "name": "stdout",
     "output_type": "stream",
     "text": [
      "[  1.   8.  27. 125.]\n",
      "[  1.   8.  27. 125.]\n",
      "161.0\n"
     ]
    }
   ],
   "source": [
    "print(x * x2)\n",
    "print(np.multiply(x, x2))\n",
    "print(np.dot(x,x2))"
   ]
  },
  {
   "cell_type": "markdown",
   "metadata": {},
   "source": [
    "Of course arrays must have the same shape:"
   ]
  },
  {
   "cell_type": "code",
   "execution_count": 17,
   "metadata": {},
   "outputs": [
    {
     "ename": "ValueError",
     "evalue": "operands could not be broadcast together with shapes (4,) (2,) ",
     "output_type": "error",
     "traceback": [
      "\u001b[0;31m---------------------------------------------------------------------------\u001b[0m",
      "\u001b[0;31mValueError\u001b[0m                                Traceback (most recent call last)",
      "\u001b[0;32m<ipython-input-17-e96bc2526441>\u001b[0m in \u001b[0;36m<module>\u001b[0;34m\u001b[0m\n\u001b[1;32m      1\u001b[0m \u001b[0my\u001b[0m \u001b[0;34m=\u001b[0m \u001b[0mnp\u001b[0m\u001b[0;34m.\u001b[0m\u001b[0marray\u001b[0m\u001b[0;34m(\u001b[0m\u001b[0;34m[\u001b[0m\u001b[0;36m1\u001b[0m\u001b[0;34m,\u001b[0m\u001b[0;36m2\u001b[0m\u001b[0;34m]\u001b[0m\u001b[0;34m)\u001b[0m\u001b[0;34m\u001b[0m\u001b[0;34m\u001b[0m\u001b[0m\n\u001b[0;32m----> 2\u001b[0;31m \u001b[0mprint\u001b[0m\u001b[0;34m(\u001b[0m\u001b[0mx\u001b[0m\u001b[0;34m*\u001b[0m\u001b[0my\u001b[0m\u001b[0;34m)\u001b[0m\u001b[0;34m\u001b[0m\u001b[0;34m\u001b[0m\u001b[0m\n\u001b[0m",
      "\u001b[0;31mValueError\u001b[0m: operands could not be broadcast together with shapes (4,) (2,) "
     ]
    }
   ],
   "source": [
    "y = np.array([1,2])\n",
    "print(x*y)"
   ]
  },
  {
   "cell_type": "code",
   "execution_count": 18,
   "metadata": {},
   "outputs": [
    {
     "name": "stdout",
     "output_type": "stream",
     "text": [
      "[1 2 3 4]\n",
      "[[1. 1. 1. 1.]\n",
      " [1. 1. 1. 1.]\n",
      " [1. 1. 1. 1.]\n",
      " [1. 1. 1. 1.]\n",
      " [1. 1. 1. 1.]\n",
      " [1. 1. 1. 1.]\n",
      " [1. 1. 1. 1.]\n",
      " [1. 1. 1. 1.]]\n",
      "[[1. 2. 3. 4.]\n",
      " [1. 2. 3. 4.]\n",
      " [1. 2. 3. 4.]\n",
      " [1. 2. 3. 4.]\n",
      " [1. 2. 3. 4.]\n",
      " [1. 2. 3. 4.]\n",
      " [1. 2. 3. 4.]\n",
      " [1. 2. 3. 4.]]\n"
     ]
    }
   ],
   "source": [
    "x = np.arange(1,5,1)\n",
    "y = np.ones([8,4])\n",
    "print(x)\n",
    "print(y)\n",
    "print(x*y)"
   ]
  },
  {
   "cell_type": "markdown",
   "metadata": {},
   "source": [
    "## Boolean arrays"
   ]
  },
  {
   "cell_type": "markdown",
   "metadata": {},
   "source": [
    "Boolean arrays can be created using the usual comparison operators, such as `>` (greater), `<` (smaller), `==` (equal to) and `!=` (not equal to), and they can be combined using the bitwise operators `&` (and), `|` (or), and `~` (not):"
   ]
  },
  {
   "cell_type": "code",
   "execution_count": 19,
   "metadata": {},
   "outputs": [
    {
     "name": "stdout",
     "output_type": "stream",
     "text": [
      "[0 1 2 3 4 5 6 7 8 9]\n",
      "[ True  True  True  True  True False False False False False]\n",
      "[False False False False  True False False False False False]\n"
     ]
    }
   ],
   "source": [
    "a = np.arange(0,10,1)\n",
    "print(a)\n",
    "\n",
    "b = a<5\n",
    "print(b)\n",
    "\n",
    "c = (a>3)\n",
    "print(b & c)"
   ]
  },
  {
   "cell_type": "markdown",
   "metadata": {},
   "source": [
    "Boolean arrays can be used to select elements in an array:\n"
   ]
  },
  {
   "cell_type": "code",
   "execution_count": 20,
   "metadata": {},
   "outputs": [
    {
     "name": "stdout",
     "output_type": "stream",
     "text": [
      "[0 1 2 3 4]\n",
      "[4]\n"
     ]
    }
   ],
   "source": [
    "print(a[b])\n",
    "print(a[b & c])"
   ]
  },
  {
   "cell_type": "markdown",
   "metadata": {},
   "source": [
    "## Other types"
   ]
  },
  {
   "cell_type": "code",
   "execution_count": 21,
   "metadata": {},
   "outputs": [
    {
     "name": "stdout",
     "output_type": "stream",
     "text": [
      "[1 2 3]\n",
      "['a' 'b' 'c']\n"
     ]
    }
   ],
   "source": [
    "a = np.array([1,2,3],dtype=int)\n",
    "b = np.array(['a','b','c'],dtype=str)\n",
    "print(a)\n",
    "print(b)"
   ]
  },
  {
   "cell_type": "markdown",
   "metadata": {},
   "source": [
    "## Some additional functions & further reference"
   ]
  },
  {
   "cell_type": "markdown",
   "metadata": {},
   "source": [
    "Finally, Numpy provides many useful functions for performing computations on arrays, like sum, inner products and trasposition (see here for a complete list https://docs.scipy.org/doc/numpy/reference/routines.math.html ):"
   ]
  },
  {
   "cell_type": "code",
   "execution_count": 22,
   "metadata": {},
   "outputs": [
    {
     "name": "stdout",
     "output_type": "stream",
     "text": [
      "10\n",
      "[4 6]\n",
      "[3 7]\n"
     ]
    }
   ],
   "source": [
    "x = np.array([[1,2],[3,4]])\n",
    "\n",
    "print(np.sum(x))  # Compute sum of all elements\n",
    "print(np.sum(x, axis=0))  # Compute sum of each column\n",
    "print(np.sum(x, axis=1))  # Compute sum of each row"
   ]
  },
  {
   "cell_type": "code",
   "execution_count": 23,
   "metadata": {},
   "outputs": [
    {
     "name": "stdout",
     "output_type": "stream",
     "text": [
      "219\n",
      "219\n"
     ]
    }
   ],
   "source": [
    "v = np.array([9,10])\n",
    "w = np.array([11, 12])\n",
    "\n",
    "# Inner product of vectors\n",
    "print(v.dot(w))\n",
    "print(np.dot(v, w))"
   ]
  },
  {
   "cell_type": "code",
   "execution_count": 24,
   "metadata": {},
   "outputs": [
    {
     "name": "stdout",
     "output_type": "stream",
     "text": [
      "[[1 2 3]\n",
      " [4 5 6]\n",
      " [7 8 9]] \n",
      "\n",
      "[[1 4 7]\n",
      " [2 5 8]\n",
      " [3 6 9]]\n"
     ]
    }
   ],
   "source": [
    "x = np.array([[1,2,3], [4,5,6], [7,8,9]])\n",
    "print(x,\"\\n\")    \n",
    "print(x.T)  # Transposition, i.e. switch between rows and columns"
   ]
  },
  {
   "cell_type": "markdown",
   "metadata": {},
   "source": [
    "## Exercise 4: array operations\n",
    "Define a function that takes two arrays as input, subtracts them and returns two different arrays, one with the resulting positive numbers, and the other with the negative ones (either can be empty). The two input arrays must have the same length: check that within the function."
   ]
  },
  {
   "cell_type": "code",
   "execution_count": null,
   "metadata": {},
   "outputs": [],
   "source": [
    "\n"
   ]
  },
  {
   "cell_type": "markdown",
   "metadata": {},
   "source": [
    "# Random numbers with NumPy"
   ]
  },
  {
   "cell_type": "markdown",
   "metadata": {},
   "source": [
    "In Astrophysics, for many application, it can happen that you need random numbers. NumPy provides us with useful tools to generate them. In several situations, you will need random numbers generated from a **uniform distribution** in the interval $[0,1)$. To generate them you just need to access the random package of NumPy, i.e. `np.random.some_method()`. Here and example:"
   ]
  },
  {
   "cell_type": "code",
   "execution_count": 25,
   "metadata": {},
   "outputs": [
    {
     "name": "stdout",
     "output_type": "stream",
     "text": [
      "0.8721248645832305\n"
     ]
    }
   ],
   "source": [
    "import numpy as np # numpy import\n",
    "\n",
    "rnd1 = np.random.random()\n",
    "print(rnd1)"
   ]
  },
  {
   "cell_type": "markdown",
   "metadata": {},
   "source": [
    "The above function `random` called with no argument just generates a single random number drawn from the Uniform distribution in $[0,1)$. If you call the function with a single integer number N than N random numbers are generated in the form of a 1D numpy array. Finally, if you specify the shape (enclosed in **round `( )` or squared `[ ]` parentheses**, i.e. provide the shape with a Tuple or a list) of a multi-dimensional array, then you get a multi-dimensional array of the specified shape filled with uniform random numbers between 0 and 1"
   ]
  },
  {
   "cell_type": "code",
   "execution_count": 26,
   "metadata": {},
   "outputs": [
    {
     "name": "stdout",
     "output_type": "stream",
     "text": [
      "[0.23009274 0.25822367 0.98021142]\n",
      "\n",
      "\n",
      "[[[0.19122609 0.47548679 0.28742281 0.85136341]\n",
      "  [0.43627587 0.04903618 0.51562441 0.09214554]\n",
      "  [0.23907164 0.45642885 0.53765554 0.1365105 ]]\n",
      "\n",
      " [[0.86818656 0.71228042 0.78590423 0.90425398]\n",
      "  [0.61445723 0.27305333 0.83766086 0.43030783]\n",
      "  [0.93075437 0.48887089 0.42449337 0.84691763]]\n",
      "\n",
      " [[0.17139093 0.0303377  0.84705794 0.80244835]\n",
      "  [0.35343495 0.00664403 0.96114177 0.62571781]\n",
      "  [0.88786004 0.70925918 0.49344333 0.16739846]]]\n"
     ]
    }
   ],
   "source": [
    "print(np.random.random(3))\n",
    "\n",
    "print(\"\\n\")\n",
    "print(np.random.random([3,3,4]))"
   ]
  },
  {
   "cell_type": "markdown",
   "metadata": {},
   "source": [
    "Each time that you call the above functions, different random numbers are generated. If you need to generate always the same sequence you have to specify the **seed** of the random generator, i.e.:"
   ]
  },
  {
   "cell_type": "code",
   "execution_count": 27,
   "metadata": {},
   "outputs": [
    {
     "name": "stdout",
     "output_type": "stream",
     "text": [
      "[0.09310829 0.97165592 0.48385998]\n",
      "\n",
      "\n",
      "[[[0.2425227  0.53112383 0.28554424 0.86263038]\n",
      "  [0.04110015 0.10834773 0.76716005 0.05142871]\n",
      "  [0.77571654 0.00913894 0.61831211 0.81870933]]\n",
      "\n",
      " [[0.89858572 0.98561158 0.49674492 0.35231893]\n",
      "  [0.86708499 0.39688175 0.64365722 0.02045331]\n",
      "  [0.80808454 0.4296133  0.55854652 0.77911129]]\n",
      "\n",
      " [[0.40255712 0.90799492 0.64996961 0.72727223]\n",
      "  [0.77956104 0.35072745 0.01965992 0.35855857]\n",
      "  [0.30322545 0.91906199 0.25339693 0.24115477]]]\n"
     ]
    }
   ],
   "source": [
    "np.random.seed(55)                 # explicit specification of the seed\n",
    "print(np.random.random(3))\n",
    "print(\"\\n\")\n",
    "print(np.random.random((3,3,4)))"
   ]
  },
  {
   "cell_type": "markdown",
   "metadata": {},
   "source": [
    "and this will always generate the same sequence."
   ]
  },
  {
   "cell_type": "markdown",
   "metadata": {},
   "source": [
    "NumPy has built-in methods to generate random numbers distributed according to many different known distributions, e.g. gaussian, poission, binomial etc. Here the full list https://docs.scipy.org/doc/numpy-1.15.1/reference/routines.random.html"
   ]
  },
  {
   "cell_type": "markdown",
   "metadata": {},
   "source": [
    "## Exercise 5\n",
    "Generate 10000 pseudo-random coordinates in a 4D cube, then use these samples to compute the volume of a 4D sphere by [Monte-Carlo integration](https://en.wikipedia.org/wiki/Monte_Carlo_integration)."
   ]
  },
  {
   "cell_type": "code",
   "execution_count": null,
   "metadata": {},
   "outputs": [],
   "source": []
  }
 ],
 "metadata": {
  "kernelspec": {
   "display_name": "Python 3",
   "language": "python",
   "name": "python3"
  },
  "language_info": {
   "codemirror_mode": {
    "name": "ipython",
    "version": 3
   },
   "file_extension": ".py",
   "mimetype": "text/x-python",
   "name": "python",
   "nbconvert_exporter": "python",
   "pygments_lexer": "ipython3",
   "version": "3.8.5"
  }
 },
 "nbformat": 4,
 "nbformat_minor": 2
}
